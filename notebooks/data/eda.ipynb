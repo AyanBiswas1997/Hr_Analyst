{
 "cells": [
  {
   "cell_type": "code",
   "execution_count": 265,
   "metadata": {},
   "outputs": [],
   "source": [
    "import pandas as pd\n",
    "import seaborn as sns\n",
    "import matplotlib.pyplot as plt\n",
    "import numpy as np\n",
    "from sklearn.model_selection import train_test_split\n",
    "from sklearn.ensemble import RandomForestClassifier\n",
    "from sklearn.ensemble import RandomForestRegressor\n",
    "from sklearn.svm import SVC\n",
    "from sklearn.preprocessing import StandardScaler\n",
    "from sklearn.preprocessing import MinMaxScaler\n",
    "from sklearn.linear_model import LinearRegression\n",
    "from sklearn.linear_model import LogisticRegression\n"
   ]
  },
  {
   "cell_type": "code",
   "execution_count": 266,
   "metadata": {},
   "outputs": [],
   "source": [
    "df=pd.read_csv(\"D:/data science/Hr_Analyst/notebooks/data/HRDataset_v14.csv\")"
   ]
  },
  {
   "cell_type": "code",
   "execution_count": 267,
   "metadata": {},
   "outputs": [
    {
     "data": {
      "text/html": [
       "<div>\n",
       "<style scoped>\n",
       "    .dataframe tbody tr th:only-of-type {\n",
       "        vertical-align: middle;\n",
       "    }\n",
       "\n",
       "    .dataframe tbody tr th {\n",
       "        vertical-align: top;\n",
       "    }\n",
       "\n",
       "    .dataframe thead th {\n",
       "        text-align: right;\n",
       "    }\n",
       "</style>\n",
       "<table border=\"1\" class=\"dataframe\">\n",
       "  <thead>\n",
       "    <tr style=\"text-align: right;\">\n",
       "      <th></th>\n",
       "      <th>Employee_Name</th>\n",
       "      <th>EmpID</th>\n",
       "      <th>MarriedID</th>\n",
       "      <th>MaritalStatusID</th>\n",
       "      <th>GenderID</th>\n",
       "      <th>EmpStatusID</th>\n",
       "      <th>DeptID</th>\n",
       "      <th>PerfScoreID</th>\n",
       "      <th>FromDiversityJobFairID</th>\n",
       "      <th>Salary</th>\n",
       "      <th>...</th>\n",
       "      <th>ManagerName</th>\n",
       "      <th>ManagerID</th>\n",
       "      <th>RecruitmentSource</th>\n",
       "      <th>PerformanceScore</th>\n",
       "      <th>EngagementSurvey</th>\n",
       "      <th>EmpSatisfaction</th>\n",
       "      <th>SpecialProjectsCount</th>\n",
       "      <th>LastPerformanceReview_Date</th>\n",
       "      <th>DaysLateLast30</th>\n",
       "      <th>Absences</th>\n",
       "    </tr>\n",
       "  </thead>\n",
       "  <tbody>\n",
       "    <tr>\n",
       "      <th>0</th>\n",
       "      <td>Adinolfi, Wilson  K</td>\n",
       "      <td>10026</td>\n",
       "      <td>0</td>\n",
       "      <td>0</td>\n",
       "      <td>1</td>\n",
       "      <td>1</td>\n",
       "      <td>5</td>\n",
       "      <td>4</td>\n",
       "      <td>0</td>\n",
       "      <td>62506</td>\n",
       "      <td>...</td>\n",
       "      <td>Michael Albert</td>\n",
       "      <td>22.0</td>\n",
       "      <td>LinkedIn</td>\n",
       "      <td>Exceeds</td>\n",
       "      <td>4.60</td>\n",
       "      <td>5</td>\n",
       "      <td>0</td>\n",
       "      <td>1/17/2019</td>\n",
       "      <td>0</td>\n",
       "      <td>1</td>\n",
       "    </tr>\n",
       "    <tr>\n",
       "      <th>1</th>\n",
       "      <td>Ait Sidi, Karthikeyan</td>\n",
       "      <td>10084</td>\n",
       "      <td>1</td>\n",
       "      <td>1</td>\n",
       "      <td>1</td>\n",
       "      <td>5</td>\n",
       "      <td>3</td>\n",
       "      <td>3</td>\n",
       "      <td>0</td>\n",
       "      <td>104437</td>\n",
       "      <td>...</td>\n",
       "      <td>Simon Roup</td>\n",
       "      <td>4.0</td>\n",
       "      <td>Indeed</td>\n",
       "      <td>Fully Meets</td>\n",
       "      <td>4.96</td>\n",
       "      <td>3</td>\n",
       "      <td>6</td>\n",
       "      <td>2/24/2016</td>\n",
       "      <td>0</td>\n",
       "      <td>17</td>\n",
       "    </tr>\n",
       "    <tr>\n",
       "      <th>2</th>\n",
       "      <td>Akinkuolie, Sarah</td>\n",
       "      <td>10196</td>\n",
       "      <td>1</td>\n",
       "      <td>1</td>\n",
       "      <td>0</td>\n",
       "      <td>5</td>\n",
       "      <td>5</td>\n",
       "      <td>3</td>\n",
       "      <td>0</td>\n",
       "      <td>64955</td>\n",
       "      <td>...</td>\n",
       "      <td>Kissy Sullivan</td>\n",
       "      <td>20.0</td>\n",
       "      <td>LinkedIn</td>\n",
       "      <td>Fully Meets</td>\n",
       "      <td>3.02</td>\n",
       "      <td>3</td>\n",
       "      <td>0</td>\n",
       "      <td>5/15/2012</td>\n",
       "      <td>0</td>\n",
       "      <td>3</td>\n",
       "    </tr>\n",
       "    <tr>\n",
       "      <th>3</th>\n",
       "      <td>Alagbe,Trina</td>\n",
       "      <td>10088</td>\n",
       "      <td>1</td>\n",
       "      <td>1</td>\n",
       "      <td>0</td>\n",
       "      <td>1</td>\n",
       "      <td>5</td>\n",
       "      <td>3</td>\n",
       "      <td>0</td>\n",
       "      <td>64991</td>\n",
       "      <td>...</td>\n",
       "      <td>Elijiah Gray</td>\n",
       "      <td>16.0</td>\n",
       "      <td>Indeed</td>\n",
       "      <td>Fully Meets</td>\n",
       "      <td>4.84</td>\n",
       "      <td>5</td>\n",
       "      <td>0</td>\n",
       "      <td>1/3/2019</td>\n",
       "      <td>0</td>\n",
       "      <td>15</td>\n",
       "    </tr>\n",
       "    <tr>\n",
       "      <th>4</th>\n",
       "      <td>Anderson, Carol</td>\n",
       "      <td>10069</td>\n",
       "      <td>0</td>\n",
       "      <td>2</td>\n",
       "      <td>0</td>\n",
       "      <td>5</td>\n",
       "      <td>5</td>\n",
       "      <td>3</td>\n",
       "      <td>0</td>\n",
       "      <td>50825</td>\n",
       "      <td>...</td>\n",
       "      <td>Webster Butler</td>\n",
       "      <td>39.0</td>\n",
       "      <td>Google Search</td>\n",
       "      <td>Fully Meets</td>\n",
       "      <td>5.00</td>\n",
       "      <td>4</td>\n",
       "      <td>0</td>\n",
       "      <td>2/1/2016</td>\n",
       "      <td>0</td>\n",
       "      <td>2</td>\n",
       "    </tr>\n",
       "    <tr>\n",
       "      <th>...</th>\n",
       "      <td>...</td>\n",
       "      <td>...</td>\n",
       "      <td>...</td>\n",
       "      <td>...</td>\n",
       "      <td>...</td>\n",
       "      <td>...</td>\n",
       "      <td>...</td>\n",
       "      <td>...</td>\n",
       "      <td>...</td>\n",
       "      <td>...</td>\n",
       "      <td>...</td>\n",
       "      <td>...</td>\n",
       "      <td>...</td>\n",
       "      <td>...</td>\n",
       "      <td>...</td>\n",
       "      <td>...</td>\n",
       "      <td>...</td>\n",
       "      <td>...</td>\n",
       "      <td>...</td>\n",
       "      <td>...</td>\n",
       "      <td>...</td>\n",
       "    </tr>\n",
       "    <tr>\n",
       "      <th>306</th>\n",
       "      <td>Woodson, Jason</td>\n",
       "      <td>10135</td>\n",
       "      <td>0</td>\n",
       "      <td>0</td>\n",
       "      <td>1</td>\n",
       "      <td>1</td>\n",
       "      <td>5</td>\n",
       "      <td>3</td>\n",
       "      <td>0</td>\n",
       "      <td>65893</td>\n",
       "      <td>...</td>\n",
       "      <td>Kissy Sullivan</td>\n",
       "      <td>20.0</td>\n",
       "      <td>LinkedIn</td>\n",
       "      <td>Fully Meets</td>\n",
       "      <td>4.07</td>\n",
       "      <td>4</td>\n",
       "      <td>0</td>\n",
       "      <td>2/28/2019</td>\n",
       "      <td>0</td>\n",
       "      <td>13</td>\n",
       "    </tr>\n",
       "    <tr>\n",
       "      <th>307</th>\n",
       "      <td>Ybarra, Catherine</td>\n",
       "      <td>10301</td>\n",
       "      <td>0</td>\n",
       "      <td>0</td>\n",
       "      <td>0</td>\n",
       "      <td>5</td>\n",
       "      <td>5</td>\n",
       "      <td>1</td>\n",
       "      <td>0</td>\n",
       "      <td>48513</td>\n",
       "      <td>...</td>\n",
       "      <td>Brannon Miller</td>\n",
       "      <td>12.0</td>\n",
       "      <td>Google Search</td>\n",
       "      <td>PIP</td>\n",
       "      <td>3.20</td>\n",
       "      <td>2</td>\n",
       "      <td>0</td>\n",
       "      <td>9/2/2015</td>\n",
       "      <td>5</td>\n",
       "      <td>4</td>\n",
       "    </tr>\n",
       "    <tr>\n",
       "      <th>308</th>\n",
       "      <td>Zamora, Jennifer</td>\n",
       "      <td>10010</td>\n",
       "      <td>0</td>\n",
       "      <td>0</td>\n",
       "      <td>0</td>\n",
       "      <td>1</td>\n",
       "      <td>3</td>\n",
       "      <td>4</td>\n",
       "      <td>0</td>\n",
       "      <td>220450</td>\n",
       "      <td>...</td>\n",
       "      <td>Janet King</td>\n",
       "      <td>2.0</td>\n",
       "      <td>Employee Referral</td>\n",
       "      <td>Exceeds</td>\n",
       "      <td>4.60</td>\n",
       "      <td>5</td>\n",
       "      <td>6</td>\n",
       "      <td>2/21/2019</td>\n",
       "      <td>0</td>\n",
       "      <td>16</td>\n",
       "    </tr>\n",
       "    <tr>\n",
       "      <th>309</th>\n",
       "      <td>Zhou, Julia</td>\n",
       "      <td>10043</td>\n",
       "      <td>0</td>\n",
       "      <td>0</td>\n",
       "      <td>0</td>\n",
       "      <td>1</td>\n",
       "      <td>3</td>\n",
       "      <td>3</td>\n",
       "      <td>0</td>\n",
       "      <td>89292</td>\n",
       "      <td>...</td>\n",
       "      <td>Simon Roup</td>\n",
       "      <td>4.0</td>\n",
       "      <td>Employee Referral</td>\n",
       "      <td>Fully Meets</td>\n",
       "      <td>5.00</td>\n",
       "      <td>3</td>\n",
       "      <td>5</td>\n",
       "      <td>2/1/2019</td>\n",
       "      <td>0</td>\n",
       "      <td>11</td>\n",
       "    </tr>\n",
       "    <tr>\n",
       "      <th>310</th>\n",
       "      <td>Zima, Colleen</td>\n",
       "      <td>10271</td>\n",
       "      <td>0</td>\n",
       "      <td>4</td>\n",
       "      <td>0</td>\n",
       "      <td>1</td>\n",
       "      <td>5</td>\n",
       "      <td>3</td>\n",
       "      <td>0</td>\n",
       "      <td>45046</td>\n",
       "      <td>...</td>\n",
       "      <td>David Stanley</td>\n",
       "      <td>14.0</td>\n",
       "      <td>LinkedIn</td>\n",
       "      <td>Fully Meets</td>\n",
       "      <td>4.50</td>\n",
       "      <td>5</td>\n",
       "      <td>0</td>\n",
       "      <td>1/30/2019</td>\n",
       "      <td>0</td>\n",
       "      <td>2</td>\n",
       "    </tr>\n",
       "  </tbody>\n",
       "</table>\n",
       "<p>311 rows × 36 columns</p>\n",
       "</div>"
      ],
      "text/plain": [
       "                Employee_Name  EmpID  MarriedID  MaritalStatusID  GenderID  \\\n",
       "0         Adinolfi, Wilson  K  10026          0                0         1   \n",
       "1    Ait Sidi, Karthikeyan     10084          1                1         1   \n",
       "2           Akinkuolie, Sarah  10196          1                1         0   \n",
       "3                Alagbe,Trina  10088          1                1         0   \n",
       "4            Anderson, Carol   10069          0                2         0   \n",
       "..                        ...    ...        ...              ...       ...   \n",
       "306            Woodson, Jason  10135          0                0         1   \n",
       "307        Ybarra, Catherine   10301          0                0         0   \n",
       "308          Zamora, Jennifer  10010          0                0         0   \n",
       "309               Zhou, Julia  10043          0                0         0   \n",
       "310             Zima, Colleen  10271          0                4         0   \n",
       "\n",
       "     EmpStatusID  DeptID  PerfScoreID  FromDiversityJobFairID  Salary  ...  \\\n",
       "0              1       5            4                       0   62506  ...   \n",
       "1              5       3            3                       0  104437  ...   \n",
       "2              5       5            3                       0   64955  ...   \n",
       "3              1       5            3                       0   64991  ...   \n",
       "4              5       5            3                       0   50825  ...   \n",
       "..           ...     ...          ...                     ...     ...  ...   \n",
       "306            1       5            3                       0   65893  ...   \n",
       "307            5       5            1                       0   48513  ...   \n",
       "308            1       3            4                       0  220450  ...   \n",
       "309            1       3            3                       0   89292  ...   \n",
       "310            1       5            3                       0   45046  ...   \n",
       "\n",
       "        ManagerName  ManagerID  RecruitmentSource PerformanceScore  \\\n",
       "0    Michael Albert       22.0           LinkedIn          Exceeds   \n",
       "1        Simon Roup        4.0             Indeed      Fully Meets   \n",
       "2    Kissy Sullivan       20.0           LinkedIn      Fully Meets   \n",
       "3      Elijiah Gray       16.0             Indeed      Fully Meets   \n",
       "4    Webster Butler       39.0      Google Search      Fully Meets   \n",
       "..              ...        ...                ...              ...   \n",
       "306  Kissy Sullivan       20.0           LinkedIn      Fully Meets   \n",
       "307  Brannon Miller       12.0      Google Search              PIP   \n",
       "308      Janet King        2.0  Employee Referral          Exceeds   \n",
       "309      Simon Roup        4.0  Employee Referral      Fully Meets   \n",
       "310   David Stanley       14.0           LinkedIn      Fully Meets   \n",
       "\n",
       "     EngagementSurvey EmpSatisfaction SpecialProjectsCount  \\\n",
       "0                4.60               5                    0   \n",
       "1                4.96               3                    6   \n",
       "2                3.02               3                    0   \n",
       "3                4.84               5                    0   \n",
       "4                5.00               4                    0   \n",
       "..                ...             ...                  ...   \n",
       "306              4.07               4                    0   \n",
       "307              3.20               2                    0   \n",
       "308              4.60               5                    6   \n",
       "309              5.00               3                    5   \n",
       "310              4.50               5                    0   \n",
       "\n",
       "    LastPerformanceReview_Date DaysLateLast30 Absences  \n",
       "0                    1/17/2019              0        1  \n",
       "1                    2/24/2016              0       17  \n",
       "2                    5/15/2012              0        3  \n",
       "3                     1/3/2019              0       15  \n",
       "4                     2/1/2016              0        2  \n",
       "..                         ...            ...      ...  \n",
       "306                  2/28/2019              0       13  \n",
       "307                   9/2/2015              5        4  \n",
       "308                  2/21/2019              0       16  \n",
       "309                   2/1/2019              0       11  \n",
       "310                  1/30/2019              0        2  \n",
       "\n",
       "[311 rows x 36 columns]"
      ]
     },
     "execution_count": 267,
     "metadata": {},
     "output_type": "execute_result"
    }
   ],
   "source": [
    "df"
   ]
  },
  {
   "cell_type": "code",
   "execution_count": 268,
   "metadata": {},
   "outputs": [
    {
     "data": {
      "text/plain": [
       "Index(['Employee_Name', 'EmpID', 'MarriedID', 'MaritalStatusID', 'GenderID',\n",
       "       'EmpStatusID', 'DeptID', 'PerfScoreID', 'FromDiversityJobFairID',\n",
       "       'Salary', 'Termd', 'PositionID', 'Position', 'State', 'Zip', 'DOB',\n",
       "       'Sex', 'MaritalDesc', 'CitizenDesc', 'HispanicLatino', 'RaceDesc',\n",
       "       'DateofHire', 'DateofTermination', 'TermReason', 'EmploymentStatus',\n",
       "       'Department', 'ManagerName', 'ManagerID', 'RecruitmentSource',\n",
       "       'PerformanceScore', 'EngagementSurvey', 'EmpSatisfaction',\n",
       "       'SpecialProjectsCount', 'LastPerformanceReview_Date', 'DaysLateLast30',\n",
       "       'Absences'],\n",
       "      dtype='object')"
      ]
     },
     "execution_count": 268,
     "metadata": {},
     "output_type": "execute_result"
    }
   ],
   "source": [
    "df.columns"
   ]
  },
  {
   "cell_type": "code",
   "execution_count": 269,
   "metadata": {},
   "outputs": [
    {
     "data": {
      "text/plain": [
       "Employee_Name                   0\n",
       "EmpID                           0\n",
       "MarriedID                       0\n",
       "MaritalStatusID                 0\n",
       "GenderID                        0\n",
       "EmpStatusID                     0\n",
       "DeptID                          0\n",
       "PerfScoreID                     0\n",
       "FromDiversityJobFairID          0\n",
       "Salary                          0\n",
       "Termd                           0\n",
       "PositionID                      0\n",
       "Position                        0\n",
       "State                           0\n",
       "Zip                             0\n",
       "DOB                             0\n",
       "Sex                             0\n",
       "MaritalDesc                     0\n",
       "CitizenDesc                     0\n",
       "HispanicLatino                  0\n",
       "RaceDesc                        0\n",
       "DateofHire                      0\n",
       "DateofTermination             207\n",
       "TermReason                      0\n",
       "EmploymentStatus                0\n",
       "Department                      0\n",
       "ManagerName                     0\n",
       "ManagerID                       8\n",
       "RecruitmentSource               0\n",
       "PerformanceScore                0\n",
       "EngagementSurvey                0\n",
       "EmpSatisfaction                 0\n",
       "SpecialProjectsCount            0\n",
       "LastPerformanceReview_Date      0\n",
       "DaysLateLast30                  0\n",
       "Absences                        0\n",
       "dtype: int64"
      ]
     },
     "execution_count": 269,
     "metadata": {},
     "output_type": "execute_result"
    }
   ],
   "source": [
    "df.isnull().sum()"
   ]
  },
  {
   "cell_type": "code",
   "execution_count": 270,
   "metadata": {},
   "outputs": [],
   "source": [
    "#manage ull value\n",
    "df=df.fillna(value=0)"
   ]
  },
  {
   "cell_type": "code",
   "execution_count": 271,
   "metadata": {},
   "outputs": [
    {
     "data": {
      "text/html": [
       "<div>\n",
       "<style scoped>\n",
       "    .dataframe tbody tr th:only-of-type {\n",
       "        vertical-align: middle;\n",
       "    }\n",
       "\n",
       "    .dataframe tbody tr th {\n",
       "        vertical-align: top;\n",
       "    }\n",
       "\n",
       "    .dataframe thead th {\n",
       "        text-align: right;\n",
       "    }\n",
       "</style>\n",
       "<table border=\"1\" class=\"dataframe\">\n",
       "  <thead>\n",
       "    <tr style=\"text-align: right;\">\n",
       "      <th></th>\n",
       "      <th>EmpID</th>\n",
       "      <th>MarriedID</th>\n",
       "      <th>MaritalStatusID</th>\n",
       "      <th>GenderID</th>\n",
       "      <th>EmpStatusID</th>\n",
       "      <th>DeptID</th>\n",
       "      <th>PerfScoreID</th>\n",
       "      <th>FromDiversityJobFairID</th>\n",
       "      <th>Salary</th>\n",
       "      <th>Termd</th>\n",
       "      <th>PositionID</th>\n",
       "      <th>Zip</th>\n",
       "      <th>ManagerID</th>\n",
       "      <th>EngagementSurvey</th>\n",
       "      <th>EmpSatisfaction</th>\n",
       "      <th>SpecialProjectsCount</th>\n",
       "      <th>DaysLateLast30</th>\n",
       "      <th>Absences</th>\n",
       "    </tr>\n",
       "  </thead>\n",
       "  <tbody>\n",
       "    <tr>\n",
       "      <th>count</th>\n",
       "      <td>311.000000</td>\n",
       "      <td>311.000000</td>\n",
       "      <td>311.000000</td>\n",
       "      <td>311.000000</td>\n",
       "      <td>311.000000</td>\n",
       "      <td>311.000000</td>\n",
       "      <td>311.000000</td>\n",
       "      <td>311.000000</td>\n",
       "      <td>311.000000</td>\n",
       "      <td>311.000000</td>\n",
       "      <td>311.000000</td>\n",
       "      <td>311.000000</td>\n",
       "      <td>311.000000</td>\n",
       "      <td>311.000000</td>\n",
       "      <td>311.000000</td>\n",
       "      <td>311.000000</td>\n",
       "      <td>311.000000</td>\n",
       "      <td>311.000000</td>\n",
       "    </tr>\n",
       "    <tr>\n",
       "      <th>mean</th>\n",
       "      <td>10156.000000</td>\n",
       "      <td>0.398714</td>\n",
       "      <td>0.810289</td>\n",
       "      <td>0.434084</td>\n",
       "      <td>2.392283</td>\n",
       "      <td>4.610932</td>\n",
       "      <td>2.977492</td>\n",
       "      <td>0.093248</td>\n",
       "      <td>69020.684887</td>\n",
       "      <td>0.334405</td>\n",
       "      <td>16.845659</td>\n",
       "      <td>6555.482315</td>\n",
       "      <td>14.196141</td>\n",
       "      <td>4.110000</td>\n",
       "      <td>3.890675</td>\n",
       "      <td>1.218650</td>\n",
       "      <td>0.414791</td>\n",
       "      <td>10.237942</td>\n",
       "    </tr>\n",
       "    <tr>\n",
       "      <th>std</th>\n",
       "      <td>89.922189</td>\n",
       "      <td>0.490423</td>\n",
       "      <td>0.943239</td>\n",
       "      <td>0.496435</td>\n",
       "      <td>1.794383</td>\n",
       "      <td>1.083487</td>\n",
       "      <td>0.587072</td>\n",
       "      <td>0.291248</td>\n",
       "      <td>25156.636930</td>\n",
       "      <td>0.472542</td>\n",
       "      <td>6.223419</td>\n",
       "      <td>16908.396884</td>\n",
       "      <td>8.301386</td>\n",
       "      <td>0.789938</td>\n",
       "      <td>0.909241</td>\n",
       "      <td>2.349421</td>\n",
       "      <td>1.294519</td>\n",
       "      <td>5.852596</td>\n",
       "    </tr>\n",
       "    <tr>\n",
       "      <th>min</th>\n",
       "      <td>10001.000000</td>\n",
       "      <td>0.000000</td>\n",
       "      <td>0.000000</td>\n",
       "      <td>0.000000</td>\n",
       "      <td>1.000000</td>\n",
       "      <td>1.000000</td>\n",
       "      <td>1.000000</td>\n",
       "      <td>0.000000</td>\n",
       "      <td>45046.000000</td>\n",
       "      <td>0.000000</td>\n",
       "      <td>1.000000</td>\n",
       "      <td>1013.000000</td>\n",
       "      <td>0.000000</td>\n",
       "      <td>1.120000</td>\n",
       "      <td>1.000000</td>\n",
       "      <td>0.000000</td>\n",
       "      <td>0.000000</td>\n",
       "      <td>1.000000</td>\n",
       "    </tr>\n",
       "    <tr>\n",
       "      <th>25%</th>\n",
       "      <td>10078.500000</td>\n",
       "      <td>0.000000</td>\n",
       "      <td>0.000000</td>\n",
       "      <td>0.000000</td>\n",
       "      <td>1.000000</td>\n",
       "      <td>5.000000</td>\n",
       "      <td>3.000000</td>\n",
       "      <td>0.000000</td>\n",
       "      <td>55501.500000</td>\n",
       "      <td>0.000000</td>\n",
       "      <td>18.000000</td>\n",
       "      <td>1901.500000</td>\n",
       "      <td>9.500000</td>\n",
       "      <td>3.690000</td>\n",
       "      <td>3.000000</td>\n",
       "      <td>0.000000</td>\n",
       "      <td>0.000000</td>\n",
       "      <td>5.000000</td>\n",
       "    </tr>\n",
       "    <tr>\n",
       "      <th>50%</th>\n",
       "      <td>10156.000000</td>\n",
       "      <td>0.000000</td>\n",
       "      <td>1.000000</td>\n",
       "      <td>0.000000</td>\n",
       "      <td>1.000000</td>\n",
       "      <td>5.000000</td>\n",
       "      <td>3.000000</td>\n",
       "      <td>0.000000</td>\n",
       "      <td>62810.000000</td>\n",
       "      <td>0.000000</td>\n",
       "      <td>19.000000</td>\n",
       "      <td>2132.000000</td>\n",
       "      <td>14.000000</td>\n",
       "      <td>4.280000</td>\n",
       "      <td>4.000000</td>\n",
       "      <td>0.000000</td>\n",
       "      <td>0.000000</td>\n",
       "      <td>10.000000</td>\n",
       "    </tr>\n",
       "    <tr>\n",
       "      <th>75%</th>\n",
       "      <td>10233.500000</td>\n",
       "      <td>1.000000</td>\n",
       "      <td>1.000000</td>\n",
       "      <td>1.000000</td>\n",
       "      <td>5.000000</td>\n",
       "      <td>5.000000</td>\n",
       "      <td>3.000000</td>\n",
       "      <td>0.000000</td>\n",
       "      <td>72036.000000</td>\n",
       "      <td>1.000000</td>\n",
       "      <td>20.000000</td>\n",
       "      <td>2355.000000</td>\n",
       "      <td>19.000000</td>\n",
       "      <td>4.700000</td>\n",
       "      <td>5.000000</td>\n",
       "      <td>0.000000</td>\n",
       "      <td>0.000000</td>\n",
       "      <td>15.000000</td>\n",
       "    </tr>\n",
       "    <tr>\n",
       "      <th>max</th>\n",
       "      <td>10311.000000</td>\n",
       "      <td>1.000000</td>\n",
       "      <td>4.000000</td>\n",
       "      <td>1.000000</td>\n",
       "      <td>5.000000</td>\n",
       "      <td>6.000000</td>\n",
       "      <td>4.000000</td>\n",
       "      <td>1.000000</td>\n",
       "      <td>250000.000000</td>\n",
       "      <td>1.000000</td>\n",
       "      <td>30.000000</td>\n",
       "      <td>98052.000000</td>\n",
       "      <td>39.000000</td>\n",
       "      <td>5.000000</td>\n",
       "      <td>5.000000</td>\n",
       "      <td>8.000000</td>\n",
       "      <td>6.000000</td>\n",
       "      <td>20.000000</td>\n",
       "    </tr>\n",
       "  </tbody>\n",
       "</table>\n",
       "</div>"
      ],
      "text/plain": [
       "              EmpID   MarriedID  MaritalStatusID    GenderID  EmpStatusID  \\\n",
       "count    311.000000  311.000000       311.000000  311.000000   311.000000   \n",
       "mean   10156.000000    0.398714         0.810289    0.434084     2.392283   \n",
       "std       89.922189    0.490423         0.943239    0.496435     1.794383   \n",
       "min    10001.000000    0.000000         0.000000    0.000000     1.000000   \n",
       "25%    10078.500000    0.000000         0.000000    0.000000     1.000000   \n",
       "50%    10156.000000    0.000000         1.000000    0.000000     1.000000   \n",
       "75%    10233.500000    1.000000         1.000000    1.000000     5.000000   \n",
       "max    10311.000000    1.000000         4.000000    1.000000     5.000000   \n",
       "\n",
       "           DeptID  PerfScoreID  FromDiversityJobFairID         Salary  \\\n",
       "count  311.000000   311.000000              311.000000     311.000000   \n",
       "mean     4.610932     2.977492                0.093248   69020.684887   \n",
       "std      1.083487     0.587072                0.291248   25156.636930   \n",
       "min      1.000000     1.000000                0.000000   45046.000000   \n",
       "25%      5.000000     3.000000                0.000000   55501.500000   \n",
       "50%      5.000000     3.000000                0.000000   62810.000000   \n",
       "75%      5.000000     3.000000                0.000000   72036.000000   \n",
       "max      6.000000     4.000000                1.000000  250000.000000   \n",
       "\n",
       "            Termd  PositionID           Zip   ManagerID  EngagementSurvey  \\\n",
       "count  311.000000  311.000000    311.000000  311.000000        311.000000   \n",
       "mean     0.334405   16.845659   6555.482315   14.196141          4.110000   \n",
       "std      0.472542    6.223419  16908.396884    8.301386          0.789938   \n",
       "min      0.000000    1.000000   1013.000000    0.000000          1.120000   \n",
       "25%      0.000000   18.000000   1901.500000    9.500000          3.690000   \n",
       "50%      0.000000   19.000000   2132.000000   14.000000          4.280000   \n",
       "75%      1.000000   20.000000   2355.000000   19.000000          4.700000   \n",
       "max      1.000000   30.000000  98052.000000   39.000000          5.000000   \n",
       "\n",
       "       EmpSatisfaction  SpecialProjectsCount  DaysLateLast30    Absences  \n",
       "count       311.000000            311.000000      311.000000  311.000000  \n",
       "mean          3.890675              1.218650        0.414791   10.237942  \n",
       "std           0.909241              2.349421        1.294519    5.852596  \n",
       "min           1.000000              0.000000        0.000000    1.000000  \n",
       "25%           3.000000              0.000000        0.000000    5.000000  \n",
       "50%           4.000000              0.000000        0.000000   10.000000  \n",
       "75%           5.000000              0.000000        0.000000   15.000000  \n",
       "max           5.000000              8.000000        6.000000   20.000000  "
      ]
     },
     "execution_count": 271,
     "metadata": {},
     "output_type": "execute_result"
    }
   ],
   "source": [
    "df.describe()"
   ]
  },
  {
   "cell_type": "code",
   "execution_count": 8,
   "metadata": {},
   "outputs": [],
   "source": [
    "#At first dele inrelivant column\n"
   ]
  },
  {
   "cell_type": "code",
   "execution_count": 272,
   "metadata": {},
   "outputs": [
    {
     "data": {
      "text/plain": [
       "<bound method DataFrame.transpose of               Employee_Name  EmpID  MarriedID  MaritalStatusID  GenderID  \\\n",
       "0       Adinolfi, Wilson  K  10026          0                0         1   \n",
       "1  Ait Sidi, Karthikeyan     10084          1                1         1   \n",
       "2         Akinkuolie, Sarah  10196          1                1         0   \n",
       "3              Alagbe,Trina  10088          1                1         0   \n",
       "4          Anderson, Carol   10069          0                2         0   \n",
       "\n",
       "   EmpStatusID  DeptID  PerfScoreID  FromDiversityJobFairID  Salary  ...  \\\n",
       "0            1       5            4                       0   62506  ...   \n",
       "1            5       3            3                       0  104437  ...   \n",
       "2            5       5            3                       0   64955  ...   \n",
       "3            1       5            3                       0   64991  ...   \n",
       "4            5       5            3                       0   50825  ...   \n",
       "\n",
       "      ManagerName  ManagerID RecruitmentSource PerformanceScore  \\\n",
       "0  Michael Albert       22.0          LinkedIn          Exceeds   \n",
       "1      Simon Roup        4.0            Indeed      Fully Meets   \n",
       "2  Kissy Sullivan       20.0          LinkedIn      Fully Meets   \n",
       "3    Elijiah Gray       16.0            Indeed      Fully Meets   \n",
       "4  Webster Butler       39.0     Google Search      Fully Meets   \n",
       "\n",
       "   EngagementSurvey EmpSatisfaction SpecialProjectsCount  \\\n",
       "0              4.60               5                    0   \n",
       "1              4.96               3                    6   \n",
       "2              3.02               3                    0   \n",
       "3              4.84               5                    0   \n",
       "4              5.00               4                    0   \n",
       "\n",
       "  LastPerformanceReview_Date DaysLateLast30 Absences  \n",
       "0                  1/17/2019              0        1  \n",
       "1                  2/24/2016              0       17  \n",
       "2                  5/15/2012              0        3  \n",
       "3                   1/3/2019              0       15  \n",
       "4                   2/1/2016              0        2  \n",
       "\n",
       "[5 rows x 36 columns]>"
      ]
     },
     "execution_count": 272,
     "metadata": {},
     "output_type": "execute_result"
    }
   ],
   "source": [
    "df.head().transpose"
   ]
  },
  {
   "cell_type": "code",
   "execution_count": 273,
   "metadata": {},
   "outputs": [
    {
     "data": {
      "text/plain": [
       "(311, 36)"
      ]
     },
     "execution_count": 273,
     "metadata": {},
     "output_type": "execute_result"
    }
   ],
   "source": [
    "df.shape"
   ]
  },
  {
   "cell_type": "code",
   "execution_count": 274,
   "metadata": {},
   "outputs": [],
   "source": [
    "df=df.drop(columns=['Employee_Name','EmpID','State','Sex','DOB','MaritalDesc','CitizenDesc','RaceDesc','LastPerformanceReview_Date','RecruitmentSource','ManagerName','ManagerID','MaritalStatusID','HispanicLatino','GenderID','EmpStatusID','DeptID','PerfScoreID','FromDiversityJobFairID','LastPerformanceReview_Date'],axis=1)"
   ]
  },
  {
   "cell_type": "code",
   "execution_count": 275,
   "metadata": {},
   "outputs": [],
   "source": [
    "df=df.drop(columns=['Zip','DateofHire','DateofTermination','EngagementSurvey', 'SpecialProjectsCount', 'DaysLateLast30','MarriedID','PositionID'])"
   ]
  },
  {
   "cell_type": "code",
   "execution_count": 276,
   "metadata": {},
   "outputs": [
    {
     "data": {
      "text/html": [
       "<div>\n",
       "<style scoped>\n",
       "    .dataframe tbody tr th:only-of-type {\n",
       "        vertical-align: middle;\n",
       "    }\n",
       "\n",
       "    .dataframe tbody tr th {\n",
       "        vertical-align: top;\n",
       "    }\n",
       "\n",
       "    .dataframe thead th {\n",
       "        text-align: right;\n",
       "    }\n",
       "</style>\n",
       "<table border=\"1\" class=\"dataframe\">\n",
       "  <thead>\n",
       "    <tr style=\"text-align: right;\">\n",
       "      <th></th>\n",
       "      <th>Salary</th>\n",
       "      <th>Termd</th>\n",
       "      <th>Position</th>\n",
       "      <th>TermReason</th>\n",
       "      <th>EmploymentStatus</th>\n",
       "      <th>Department</th>\n",
       "      <th>PerformanceScore</th>\n",
       "      <th>EmpSatisfaction</th>\n",
       "      <th>Absences</th>\n",
       "    </tr>\n",
       "  </thead>\n",
       "  <tbody>\n",
       "    <tr>\n",
       "      <th>0</th>\n",
       "      <td>62506</td>\n",
       "      <td>0</td>\n",
       "      <td>Production Technician I</td>\n",
       "      <td>N/A-StillEmployed</td>\n",
       "      <td>Active</td>\n",
       "      <td>Production</td>\n",
       "      <td>Exceeds</td>\n",
       "      <td>5</td>\n",
       "      <td>1</td>\n",
       "    </tr>\n",
       "    <tr>\n",
       "      <th>1</th>\n",
       "      <td>104437</td>\n",
       "      <td>1</td>\n",
       "      <td>Sr. DBA</td>\n",
       "      <td>career change</td>\n",
       "      <td>Voluntarily Terminated</td>\n",
       "      <td>IT/IS</td>\n",
       "      <td>Fully Meets</td>\n",
       "      <td>3</td>\n",
       "      <td>17</td>\n",
       "    </tr>\n",
       "    <tr>\n",
       "      <th>2</th>\n",
       "      <td>64955</td>\n",
       "      <td>1</td>\n",
       "      <td>Production Technician II</td>\n",
       "      <td>hours</td>\n",
       "      <td>Voluntarily Terminated</td>\n",
       "      <td>Production</td>\n",
       "      <td>Fully Meets</td>\n",
       "      <td>3</td>\n",
       "      <td>3</td>\n",
       "    </tr>\n",
       "    <tr>\n",
       "      <th>3</th>\n",
       "      <td>64991</td>\n",
       "      <td>0</td>\n",
       "      <td>Production Technician I</td>\n",
       "      <td>N/A-StillEmployed</td>\n",
       "      <td>Active</td>\n",
       "      <td>Production</td>\n",
       "      <td>Fully Meets</td>\n",
       "      <td>5</td>\n",
       "      <td>15</td>\n",
       "    </tr>\n",
       "    <tr>\n",
       "      <th>4</th>\n",
       "      <td>50825</td>\n",
       "      <td>1</td>\n",
       "      <td>Production Technician I</td>\n",
       "      <td>return to school</td>\n",
       "      <td>Voluntarily Terminated</td>\n",
       "      <td>Production</td>\n",
       "      <td>Fully Meets</td>\n",
       "      <td>4</td>\n",
       "      <td>2</td>\n",
       "    </tr>\n",
       "  </tbody>\n",
       "</table>\n",
       "</div>"
      ],
      "text/plain": [
       "   Salary  Termd                  Position         TermReason  \\\n",
       "0   62506      0   Production Technician I  N/A-StillEmployed   \n",
       "1  104437      1                   Sr. DBA      career change   \n",
       "2   64955      1  Production Technician II              hours   \n",
       "3   64991      0   Production Technician I  N/A-StillEmployed   \n",
       "4   50825      1   Production Technician I   return to school   \n",
       "\n",
       "         EmploymentStatus         Department PerformanceScore  \\\n",
       "0                  Active  Production                 Exceeds   \n",
       "1  Voluntarily Terminated              IT/IS      Fully Meets   \n",
       "2  Voluntarily Terminated  Production             Fully Meets   \n",
       "3                  Active  Production             Fully Meets   \n",
       "4  Voluntarily Terminated  Production             Fully Meets   \n",
       "\n",
       "   EmpSatisfaction  Absences  \n",
       "0                5         1  \n",
       "1                3        17  \n",
       "2                3         3  \n",
       "3                5        15  \n",
       "4                4         2  "
      ]
     },
     "execution_count": 276,
     "metadata": {},
     "output_type": "execute_result"
    }
   ],
   "source": [
    "df.head()"
   ]
  },
  {
   "cell_type": "markdown",
   "metadata": {},
   "source": []
  },
  {
   "cell_type": "code",
   "execution_count": 277,
   "metadata": {},
   "outputs": [
    {
     "data": {
      "text/plain": [
       "(311, 9)"
      ]
     },
     "execution_count": 277,
     "metadata": {},
     "output_type": "execute_result"
    }
   ],
   "source": [
    "df.shape"
   ]
  },
  {
   "cell_type": "code",
   "execution_count": 278,
   "metadata": {},
   "outputs": [
    {
     "data": {
      "text/plain": [
       "Salary              0\n",
       "Termd               0\n",
       "Position            0\n",
       "TermReason          0\n",
       "EmploymentStatus    0\n",
       "Department          0\n",
       "PerformanceScore    0\n",
       "EmpSatisfaction     0\n",
       "Absences            0\n",
       "dtype: int64"
      ]
     },
     "execution_count": 278,
     "metadata": {},
     "output_type": "execute_result"
    }
   ],
   "source": [
    "df.isnull().sum()"
   ]
  },
  {
   "cell_type": "code",
   "execution_count": 16,
   "metadata": {},
   "outputs": [],
   "source": [
    "#remove all null value from dataset"
   ]
  },
  {
   "cell_type": "code",
   "execution_count": 279,
   "metadata": {},
   "outputs": [],
   "source": [
    "df=df.fillna(value=0)"
   ]
  },
  {
   "cell_type": "code",
   "execution_count": 280,
   "metadata": {},
   "outputs": [],
   "source": [
    "x=df.drop(columns='EmploymentStatus')"
   ]
  },
  {
   "cell_type": "code",
   "execution_count": 281,
   "metadata": {},
   "outputs": [],
   "source": [
    "y=df['EmploymentStatus']"
   ]
  },
  {
   "cell_type": "code",
   "execution_count": 282,
   "metadata": {},
   "outputs": [
    {
     "data": {
      "text/plain": [
       "0                      Active\n",
       "1      Voluntarily Terminated\n",
       "2      Voluntarily Terminated\n",
       "3                      Active\n",
       "4      Voluntarily Terminated\n",
       "                ...          \n",
       "306                    Active\n",
       "307    Voluntarily Terminated\n",
       "308                    Active\n",
       "309                    Active\n",
       "310                    Active\n",
       "Name: EmploymentStatus, Length: 311, dtype: object"
      ]
     },
     "execution_count": 282,
     "metadata": {},
     "output_type": "execute_result"
    }
   ],
   "source": [
    "y"
   ]
  },
  {
   "cell_type": "code",
   "execution_count": 283,
   "metadata": {},
   "outputs": [
    {
     "data": {
      "text/html": [
       "<div>\n",
       "<style scoped>\n",
       "    .dataframe tbody tr th:only-of-type {\n",
       "        vertical-align: middle;\n",
       "    }\n",
       "\n",
       "    .dataframe tbody tr th {\n",
       "        vertical-align: top;\n",
       "    }\n",
       "\n",
       "    .dataframe thead th {\n",
       "        text-align: right;\n",
       "    }\n",
       "</style>\n",
       "<table border=\"1\" class=\"dataframe\">\n",
       "  <thead>\n",
       "    <tr style=\"text-align: right;\">\n",
       "      <th></th>\n",
       "      <th>Salary</th>\n",
       "      <th>Termd</th>\n",
       "      <th>Position</th>\n",
       "      <th>TermReason</th>\n",
       "      <th>Department</th>\n",
       "      <th>PerformanceScore</th>\n",
       "      <th>EmpSatisfaction</th>\n",
       "      <th>Absences</th>\n",
       "    </tr>\n",
       "  </thead>\n",
       "  <tbody>\n",
       "    <tr>\n",
       "      <th>0</th>\n",
       "      <td>62506</td>\n",
       "      <td>0</td>\n",
       "      <td>Production Technician I</td>\n",
       "      <td>N/A-StillEmployed</td>\n",
       "      <td>Production</td>\n",
       "      <td>Exceeds</td>\n",
       "      <td>5</td>\n",
       "      <td>1</td>\n",
       "    </tr>\n",
       "    <tr>\n",
       "      <th>1</th>\n",
       "      <td>104437</td>\n",
       "      <td>1</td>\n",
       "      <td>Sr. DBA</td>\n",
       "      <td>career change</td>\n",
       "      <td>IT/IS</td>\n",
       "      <td>Fully Meets</td>\n",
       "      <td>3</td>\n",
       "      <td>17</td>\n",
       "    </tr>\n",
       "    <tr>\n",
       "      <th>2</th>\n",
       "      <td>64955</td>\n",
       "      <td>1</td>\n",
       "      <td>Production Technician II</td>\n",
       "      <td>hours</td>\n",
       "      <td>Production</td>\n",
       "      <td>Fully Meets</td>\n",
       "      <td>3</td>\n",
       "      <td>3</td>\n",
       "    </tr>\n",
       "    <tr>\n",
       "      <th>3</th>\n",
       "      <td>64991</td>\n",
       "      <td>0</td>\n",
       "      <td>Production Technician I</td>\n",
       "      <td>N/A-StillEmployed</td>\n",
       "      <td>Production</td>\n",
       "      <td>Fully Meets</td>\n",
       "      <td>5</td>\n",
       "      <td>15</td>\n",
       "    </tr>\n",
       "    <tr>\n",
       "      <th>4</th>\n",
       "      <td>50825</td>\n",
       "      <td>1</td>\n",
       "      <td>Production Technician I</td>\n",
       "      <td>return to school</td>\n",
       "      <td>Production</td>\n",
       "      <td>Fully Meets</td>\n",
       "      <td>4</td>\n",
       "      <td>2</td>\n",
       "    </tr>\n",
       "  </tbody>\n",
       "</table>\n",
       "</div>"
      ],
      "text/plain": [
       "   Salary  Termd                  Position         TermReason  \\\n",
       "0   62506      0   Production Technician I  N/A-StillEmployed   \n",
       "1  104437      1                   Sr. DBA      career change   \n",
       "2   64955      1  Production Technician II              hours   \n",
       "3   64991      0   Production Technician I  N/A-StillEmployed   \n",
       "4   50825      1   Production Technician I   return to school   \n",
       "\n",
       "          Department PerformanceScore  EmpSatisfaction  Absences  \n",
       "0  Production                 Exceeds                5         1  \n",
       "1              IT/IS      Fully Meets                3        17  \n",
       "2  Production             Fully Meets                3         3  \n",
       "3  Production             Fully Meets                5        15  \n",
       "4  Production             Fully Meets                4         2  "
      ]
     },
     "execution_count": 283,
     "metadata": {},
     "output_type": "execute_result"
    }
   ],
   "source": [
    "x.head()"
   ]
  },
  {
   "cell_type": "code",
   "execution_count": 284,
   "metadata": {},
   "outputs": [],
   "source": [
    "categorical_columns=x.select_dtypes(include='object').columns"
   ]
  },
  {
   "cell_type": "code",
   "execution_count": 285,
   "metadata": {},
   "outputs": [],
   "source": [
    "numerical_columns=x.select_dtypes(exclude='object').columns"
   ]
  },
  {
   "cell_type": "code",
   "execution_count": 286,
   "metadata": {},
   "outputs": [
    {
     "data": {
      "text/plain": [
       "Index(['Position', 'TermReason', 'Department', 'PerformanceScore'], dtype='object')"
      ]
     },
     "execution_count": 286,
     "metadata": {},
     "output_type": "execute_result"
    }
   ],
   "source": [
    "categorical_columns"
   ]
  },
  {
   "cell_type": "code",
   "execution_count": 287,
   "metadata": {},
   "outputs": [
    {
     "data": {
      "text/plain": [
       "Index(['Salary', 'Termd', 'EmpSatisfaction', 'Absences'], dtype='object')"
      ]
     },
     "execution_count": 287,
     "metadata": {},
     "output_type": "execute_result"
    }
   ],
   "source": [
    "numerical_columns"
   ]
  },
  {
   "cell_type": "code",
   "execution_count": 288,
   "metadata": {},
   "outputs": [
    {
     "data": {
      "text/plain": [
       "<bound method IndexOpsMixin.value_counts of 0       Production Technician I\n",
       "1                       Sr. DBA\n",
       "2      Production Technician II\n",
       "3       Production Technician I\n",
       "4       Production Technician I\n",
       "                 ...           \n",
       "306    Production Technician II\n",
       "307     Production Technician I\n",
       "308                         CIO\n",
       "309                Data Analyst\n",
       "310     Production Technician I\n",
       "Name: Position, Length: 311, dtype: object>"
      ]
     },
     "execution_count": 288,
     "metadata": {},
     "output_type": "execute_result"
    }
   ],
   "source": [
    "df[categorical_columns][\"Position\"].value_counts"
   ]
  },
  {
   "cell_type": "code",
   "execution_count": 176,
   "metadata": {},
   "outputs": [
    {
     "data": {
      "text/plain": [
       "(311, 8)"
      ]
     },
     "execution_count": 176,
     "metadata": {},
     "output_type": "execute_result"
    }
   ],
   "source": [
    "x.shape"
   ]
  },
  {
   "cell_type": "code",
   "execution_count": 177,
   "metadata": {},
   "outputs": [
    {
     "data": {
      "text/plain": [
       "(311,)"
      ]
     },
     "execution_count": 177,
     "metadata": {},
     "output_type": "execute_result"
    }
   ],
   "source": [
    "y.shape"
   ]
  },
  {
   "cell_type": "code",
   "execution_count": 178,
   "metadata": {},
   "outputs": [
    {
     "data": {
      "text/html": [
       "<div>\n",
       "<style scoped>\n",
       "    .dataframe tbody tr th:only-of-type {\n",
       "        vertical-align: middle;\n",
       "    }\n",
       "\n",
       "    .dataframe tbody tr th {\n",
       "        vertical-align: top;\n",
       "    }\n",
       "\n",
       "    .dataframe thead th {\n",
       "        text-align: right;\n",
       "    }\n",
       "</style>\n",
       "<table border=\"1\" class=\"dataframe\">\n",
       "  <thead>\n",
       "    <tr style=\"text-align: right;\">\n",
       "      <th></th>\n",
       "      <th>Salary</th>\n",
       "      <th>Termd</th>\n",
       "      <th>Position</th>\n",
       "      <th>TermReason</th>\n",
       "      <th>EmploymentStatus</th>\n",
       "      <th>Department</th>\n",
       "      <th>PerformanceScore</th>\n",
       "      <th>EmpSatisfaction</th>\n",
       "      <th>Absences</th>\n",
       "    </tr>\n",
       "  </thead>\n",
       "  <tbody>\n",
       "    <tr>\n",
       "      <th>0</th>\n",
       "      <td>62506</td>\n",
       "      <td>0</td>\n",
       "      <td>Production Technician I</td>\n",
       "      <td>N/A-StillEmployed</td>\n",
       "      <td>Active</td>\n",
       "      <td>Production</td>\n",
       "      <td>Exceeds</td>\n",
       "      <td>5</td>\n",
       "      <td>1</td>\n",
       "    </tr>\n",
       "    <tr>\n",
       "      <th>1</th>\n",
       "      <td>104437</td>\n",
       "      <td>1</td>\n",
       "      <td>Sr. DBA</td>\n",
       "      <td>career change</td>\n",
       "      <td>Voluntarily Terminated</td>\n",
       "      <td>IT/IS</td>\n",
       "      <td>Fully Meets</td>\n",
       "      <td>3</td>\n",
       "      <td>17</td>\n",
       "    </tr>\n",
       "    <tr>\n",
       "      <th>2</th>\n",
       "      <td>64955</td>\n",
       "      <td>1</td>\n",
       "      <td>Production Technician II</td>\n",
       "      <td>hours</td>\n",
       "      <td>Voluntarily Terminated</td>\n",
       "      <td>Production</td>\n",
       "      <td>Fully Meets</td>\n",
       "      <td>3</td>\n",
       "      <td>3</td>\n",
       "    </tr>\n",
       "    <tr>\n",
       "      <th>3</th>\n",
       "      <td>64991</td>\n",
       "      <td>0</td>\n",
       "      <td>Production Technician I</td>\n",
       "      <td>N/A-StillEmployed</td>\n",
       "      <td>Active</td>\n",
       "      <td>Production</td>\n",
       "      <td>Fully Meets</td>\n",
       "      <td>5</td>\n",
       "      <td>15</td>\n",
       "    </tr>\n",
       "    <tr>\n",
       "      <th>4</th>\n",
       "      <td>50825</td>\n",
       "      <td>1</td>\n",
       "      <td>Production Technician I</td>\n",
       "      <td>return to school</td>\n",
       "      <td>Voluntarily Terminated</td>\n",
       "      <td>Production</td>\n",
       "      <td>Fully Meets</td>\n",
       "      <td>4</td>\n",
       "      <td>2</td>\n",
       "    </tr>\n",
       "  </tbody>\n",
       "</table>\n",
       "</div>"
      ],
      "text/plain": [
       "   Salary  Termd                  Position         TermReason  \\\n",
       "0   62506      0   Production Technician I  N/A-StillEmployed   \n",
       "1  104437      1                   Sr. DBA      career change   \n",
       "2   64955      1  Production Technician II              hours   \n",
       "3   64991      0   Production Technician I  N/A-StillEmployed   \n",
       "4   50825      1   Production Technician I   return to school   \n",
       "\n",
       "         EmploymentStatus         Department PerformanceScore  \\\n",
       "0                  Active  Production                 Exceeds   \n",
       "1  Voluntarily Terminated              IT/IS      Fully Meets   \n",
       "2  Voluntarily Terminated  Production             Fully Meets   \n",
       "3                  Active  Production             Fully Meets   \n",
       "4  Voluntarily Terminated  Production             Fully Meets   \n",
       "\n",
       "   EmpSatisfaction  Absences  \n",
       "0                5         1  \n",
       "1                3        17  \n",
       "2                3         3  \n",
       "3                5        15  \n",
       "4                4         2  "
      ]
     },
     "execution_count": 178,
     "metadata": {},
     "output_type": "execute_result"
    }
   ],
   "source": [
    "df.head()"
   ]
  },
  {
   "cell_type": "code",
   "execution_count": 179,
   "metadata": {},
   "outputs": [
    {
     "data": {
      "text/plain": [
       "Index(['Position', 'TermReason', 'Department', 'PerformanceScore'], dtype='object')"
      ]
     },
     "execution_count": 179,
     "metadata": {},
     "output_type": "execute_result"
    }
   ],
   "source": [
    "categorical_columns\n"
   ]
  },
  {
   "cell_type": "code",
   "execution_count": 180,
   "metadata": {},
   "outputs": [
    {
     "data": {
      "text/plain": [
       "PerformanceScore\n",
       "Fully Meets          243\n",
       "Exceeds               37\n",
       "Needs Improvement     18\n",
       "PIP                   13\n",
       "Name: count, dtype: int64"
      ]
     },
     "execution_count": 180,
     "metadata": {},
     "output_type": "execute_result"
    }
   ],
   "source": [
    "df[categorical_columns]['PerformanceScore'].value_counts()"
   ]
  },
  {
   "cell_type": "code",
   "execution_count": 181,
   "metadata": {},
   "outputs": [
    {
     "data": {
      "text/plain": [
       "Index(['Salary', 'Termd', 'EmpSatisfaction', 'Absences'], dtype='object')"
      ]
     },
     "execution_count": 181,
     "metadata": {},
     "output_type": "execute_result"
    }
   ],
   "source": [
    "numerical_columns"
   ]
  },
  {
   "cell_type": "markdown",
   "metadata": {},
   "source": []
  },
  {
   "cell_type": "code",
   "execution_count": 182,
   "metadata": {},
   "outputs": [
    {
     "data": {
      "text/plain": [
       "Salary  Termd  Position                  TermReason         Department         PerformanceScore  EmpSatisfaction  Absences\n",
       "45046   0      Production Technician I   N/A-StillEmployed  Production         Fully Meets       5                2           1\n",
       "66541   0      Production Technician II  N/A-StillEmployed  Production         Fully Meets       5                4           1\n",
       "67251   0      Area Sales Manager        N/A-StillEmployed  Sales              Fully Meets       3                7           1\n",
       "67237   1      Production Technician II  more money         Production         Fully Meets       4                15          1\n",
       "67176   1      Production Technician II  military           Production         Fully Meets       4                15          1\n",
       "Name: count, dtype: int64"
      ]
     },
     "execution_count": 182,
     "metadata": {},
     "output_type": "execute_result"
    }
   ],
   "source": [
    "x.value_counts().head()"
   ]
  },
  {
   "cell_type": "code",
   "execution_count": 183,
   "metadata": {},
   "outputs": [
    {
     "data": {
      "text/plain": [
       "Salary             1\n",
       "Termd              1\n",
       "EmpSatisfaction    1\n",
       "Absences           1\n",
       "Name: count, dtype: int64"
      ]
     },
     "execution_count": 183,
     "metadata": {},
     "output_type": "execute_result"
    }
   ],
   "source": [
    "numerical_columns.value_counts()\n"
   ]
  },
  {
   "cell_type": "code",
   "execution_count": 184,
   "metadata": {},
   "outputs": [
    {
     "data": {
      "text/plain": [
       "Position            1\n",
       "TermReason          1\n",
       "Department          1\n",
       "PerformanceScore    1\n",
       "Name: count, dtype: int64"
      ]
     },
     "execution_count": 184,
     "metadata": {},
     "output_type": "execute_result"
    }
   ],
   "source": [
    "categorical_columns.value_counts()"
   ]
  },
  {
   "cell_type": "code",
   "execution_count": 194,
   "metadata": {},
   "outputs": [
    {
     "data": {
      "text/plain": [
       "array(['Production       ', 'IT/IS', 'Production       ',\n",
       "       'Production       ', 'Production       ', 'Production       ',\n",
       "       'Software Engineering', 'Production       ', 'Production       ',\n",
       "       'IT/IS', 'Production       ', 'Production       ', 'IT/IS',\n",
       "       'Production       ', 'Production       ', 'Production       ',\n",
       "       'Production       ', 'Production       ', 'IT/IS',\n",
       "       'Production       ', 'Production       ', 'Production       ',\n",
       "       'Production       ', 'Production       ', 'Production       ',\n",
       "       'IT/IS', 'Admin Offices', 'Production       ', 'Production       ',\n",
       "       'Admin Offices', 'Production       ', 'Production       ', 'Sales',\n",
       "       'Production       ', 'Production       ', 'Software Engineering',\n",
       "       'Production       ', 'Software Engineering', 'Production       ',\n",
       "       'IT/IS', 'Sales', 'Production       ', 'IT/IS',\n",
       "       'Production       ', 'Production       ', 'Sales',\n",
       "       'Production       ', 'Production       ', 'IT/IS',\n",
       "       'Production       ', 'Production       ', 'Production       ',\n",
       "       'Production       ', 'Production       ', 'Production       ',\n",
       "       'Production       ', 'Production       ', 'IT/IS',\n",
       "       'Production       ', 'IT/IS', 'Sales', 'IT/IS',\n",
       "       'Production       ', 'Production       ', 'Production       ',\n",
       "       'Production       ', 'Software Engineering', 'Sales',\n",
       "       'Production       ', 'Production       ', 'IT/IS',\n",
       "       'Production       ', 'Sales', 'Production       ',\n",
       "       'Production       ', 'IT/IS', 'IT/IS', 'Sales',\n",
       "       'Production       ', 'Production       ', 'Production       ',\n",
       "       'Production       ', 'Production       ', 'Production       ',\n",
       "       'Production       ', 'Production       ', 'Software Engineering',\n",
       "       'Production       ', 'Production       ', 'Production       ',\n",
       "       'Production       ', 'IT/IS', 'Production       ',\n",
       "       'Production       ', 'Production       ', 'Sales', 'IT/IS',\n",
       "       'Admin Offices', 'Sales', 'IT/IS', 'Production       ',\n",
       "       'Production       ', 'Production       ', 'Production       ',\n",
       "       'Sales', 'Production       ', 'Production       ', 'Sales',\n",
       "       'IT/IS', 'IT/IS', 'Production       ', 'Production       ',\n",
       "       'Production       ', 'IT/IS', 'Production       ',\n",
       "       'Production       ', 'Production       ', 'Production       ',\n",
       "       'Production       ', 'Production       ', 'IT/IS', 'Sales',\n",
       "       'Production       ', 'Production       ', 'Production       ',\n",
       "       'Production       ', 'Production       ', 'Production       ',\n",
       "       'Sales', 'Production       ', 'IT/IS', 'Sales', 'Admin Offices',\n",
       "       'Production       ', 'Production       ', 'Production       ',\n",
       "       'Production       ', 'Production       ', 'Production       ',\n",
       "       'Production       ', 'Production       ', 'Production       ',\n",
       "       'Production       ', 'Production       ', 'IT/IS',\n",
       "       'Production       ', 'Production       ', 'Sales',\n",
       "       'Production       ', 'Sales', 'Executive Office',\n",
       "       'Production       ', 'Production       ', 'Production       ',\n",
       "       'Production       ', 'Sales', 'IT/IS', 'Production       ',\n",
       "       'Production       ', 'Production       ', 'Admin Offices',\n",
       "       'Production       ', 'IT/IS', 'Production       ', 'Admin Offices',\n",
       "       'Production       ', 'Sales', 'Production       ',\n",
       "       'Production       ', 'Production       ', 'IT/IS',\n",
       "       'Production       ', 'Production       ', 'Production       ',\n",
       "       'Production       ', 'Production       ', 'Production       ',\n",
       "       'Production       ', 'Production       ', 'Production       ',\n",
       "       'Software Engineering', 'Production       ', 'Production       ',\n",
       "       'Production       ', 'Sales', 'Production       ',\n",
       "       'Production       ', 'Production       ', 'Production       ',\n",
       "       'Production       ', 'IT/IS', 'Production       ',\n",
       "       'Production       ', 'IT/IS', 'Production       ',\n",
       "       'Production       ', 'Production       ', 'IT/IS',\n",
       "       'Production       ', 'Production       ', 'Production       ',\n",
       "       'Production       ', 'Sales', 'Production       ',\n",
       "       'Production       ', 'Production       ', 'Production       ',\n",
       "       'Sales', 'Production       ', 'Production       ', 'Sales',\n",
       "       'Production       ', 'Software Engineering', 'IT/IS',\n",
       "       'Production       ', 'Production       ', 'Production       ',\n",
       "       'Production       ', 'Production       ', 'Production       ',\n",
       "       'IT/IS', 'Production       ', 'Production       ', 'Sales',\n",
       "       'Production       ', 'Production       ', 'Production       ',\n",
       "       'Software Engineering', 'IT/IS', 'Production       ', 'Sales',\n",
       "       'Production       ', 'Production       ', 'Production       ',\n",
       "       'Production       ', 'Production       ', 'Production       ',\n",
       "       'Production       ', 'IT/IS', 'IT/IS', 'IT/IS',\n",
       "       'Production       ', 'Production       ', 'IT/IS', 'IT/IS',\n",
       "       'Software Engineering', 'Production       ', 'Production       ',\n",
       "       'Production       ', 'IT/IS', 'Production       ',\n",
       "       'Production       ', 'IT/IS', 'Production       ', 'IT/IS',\n",
       "       'Admin Offices', 'Production       ', 'Production       ', 'Sales',\n",
       "       'Admin Offices', 'Production       ', 'IT/IS', 'IT/IS',\n",
       "       'Production       ', 'Production       ', 'Production       ',\n",
       "       'Production       ', 'Sales', 'Admin Offices', 'Production       ',\n",
       "       'Sales', 'Production       ', 'Production       ',\n",
       "       'Production       ', 'Software Engineering', 'IT/IS',\n",
       "       'Production       ', 'Production       ', 'Sales',\n",
       "       'Production       ', 'Production       ', 'Production       ',\n",
       "       'Sales', 'Production       ', 'IT/IS', 'Software Engineering',\n",
       "       'Production       ', 'IT/IS', 'Sales', 'Production       ',\n",
       "       'Production       ', 'Sales', 'IT/IS', 'Production       ',\n",
       "       'Production       ', 'Production       ', 'Production       ',\n",
       "       'Production       ', 'IT/IS', 'IT/IS', 'Production       ',\n",
       "       'Production       ', 'Production       ', 'Production       ',\n",
       "       'Production       ', 'Production       ', 'Production       ',\n",
       "       'Production       ', 'IT/IS', 'IT/IS', 'Production       '],\n",
       "      dtype=object)"
      ]
     },
     "execution_count": 194,
     "metadata": {},
     "output_type": "execute_result"
    }
   ],
   "source": [
    "df['Department'].values"
   ]
  },
  {
   "cell_type": "code",
   "execution_count": 195,
   "metadata": {},
   "outputs": [
    {
     "data": {
      "text/plain": [
       "array(['Production Technician I', 'Sr. DBA', 'Production Technician II',\n",
       "       'Production Technician I', 'Production Technician I',\n",
       "       'Production Technician I', 'Software Engineer',\n",
       "       'Production Technician I', 'Production Technician I', 'IT Support',\n",
       "       'Production Technician I', 'Production Technician I',\n",
       "       'Data Analyst', 'Production Technician I',\n",
       "       'Production Technician I', 'Production Technician I',\n",
       "       'Production Technician II', 'Production Technician I',\n",
       "       'Database Administrator', 'Production Technician I',\n",
       "       'Production Technician I', 'Production Technician I',\n",
       "       'Production Technician I', 'Production Technician II',\n",
       "       'Production Technician II', 'Enterprise Architect',\n",
       "       'Sr. Accountant', 'Production Manager', 'Production Technician I',\n",
       "       'Accountant I', 'Production Technician II',\n",
       "       'Production Technician I', 'Area Sales Manager',\n",
       "       'Production Technician II', 'Production Technician II',\n",
       "       'Software Engineering Manager', 'Production Manager',\n",
       "       'Software Engineer', 'Production Technician I', 'Sr. DBA',\n",
       "       'Area Sales Manager', 'Production Technician I', 'BI Director',\n",
       "       'Production Technician I', 'Production Technician I',\n",
       "       'Area Sales Manager', 'Production Technician I',\n",
       "       'Production Technician I', 'IT Support',\n",
       "       'Production Technician II', 'Production Technician II',\n",
       "       'Production Technician I', 'Production Technician I',\n",
       "       'Production Technician I', 'Production Manager',\n",
       "       'Director of Operations', 'Production Technician I',\n",
       "       'Data Analyst', 'Production Technician I', 'Sr. Network Engineer',\n",
       "       'Sales Manager', 'Sr. Network Engineer', 'Production Technician I',\n",
       "       'Production Technician II', 'Production Technician I',\n",
       "       'Production Technician I', 'Software Engineer',\n",
       "       'Area Sales Manager', 'Production Technician II',\n",
       "       'Production Technician I', 'BI Developer',\n",
       "       'Production Technician I', 'Area Sales Manager',\n",
       "       'Production Technician I', 'Production Technician I', 'IT Support',\n",
       "       'IT Manager - Support', 'Area Sales Manager', 'Production Manager',\n",
       "       'Production Technician I', 'Production Technician I',\n",
       "       'Production Technician I', 'Production Technician I',\n",
       "       'Production Technician II', 'Production Technician I',\n",
       "       'Production Technician I', 'Software Engineer',\n",
       "       'Production Technician II', 'Production Technician II',\n",
       "       'Production Technician I', 'Production Technician I',\n",
       "       'Network Engineer', 'Production Technician I',\n",
       "       'Production Technician II', 'Production Technician II',\n",
       "       'Area Sales Manager', 'IT Director', 'Sr. Accountant',\n",
       "       'Area Sales Manager', 'IT Support', 'Production Technician I',\n",
       "       'Production Technician I', 'Production Technician I',\n",
       "       'Production Technician I', 'Area Sales Manager',\n",
       "       'Production Technician I', 'Production Technician I',\n",
       "       'Area Sales Manager', 'Database Administrator', 'IT Support',\n",
       "       'Production Technician I', 'Production Technician I',\n",
       "       'Production Technician II', 'IT Support',\n",
       "       'Production Technician II', 'Production Technician I',\n",
       "       'Production Technician II', 'Production Technician I',\n",
       "       'Production Manager', 'Production Technician I', 'BI Developer',\n",
       "       'Area Sales Manager', 'Production Technician I',\n",
       "       'Production Technician II', 'Production Technician I',\n",
       "       'Production Technician I', 'Production Technician I',\n",
       "       'Production Technician II', 'Area Sales Manager',\n",
       "       'Production Technician II', 'Database Administrator',\n",
       "       'Director of Sales', 'Administrative Assistant',\n",
       "       'Production Technician I', 'Production Technician II',\n",
       "       'Production Technician II', 'Production Technician II',\n",
       "       'Production Manager', 'Production Technician I',\n",
       "       'Production Technician I', 'Production Technician I',\n",
       "       'Production Technician II', 'Production Technician I',\n",
       "       'Production Technician I', 'Database Administrator',\n",
       "       'Production Technician II', 'Production Technician I',\n",
       "       'Sales Manager', 'Production Technician I', 'Area Sales Manager',\n",
       "       'President & CEO', 'Production Technician I',\n",
       "       'Production Technician I', 'Production Technician I',\n",
       "       'Production Technician I', 'Area Sales Manager',\n",
       "       'Sr. Network Engineer', 'Production Manager',\n",
       "       'Production Technician II', 'Production Technician I',\n",
       "       'Accountant I', 'Production Technician II', 'Senior BI Developer',\n",
       "       'Production Technician I', 'Shared Services Manager',\n",
       "       'Production Technician I', 'Area Sales Manager',\n",
       "       'Production Manager', 'Production Technician I',\n",
       "       'Production Technician II', 'IT Support',\n",
       "       'Production Technician II', 'Production Technician II',\n",
       "       'Production Technician I', 'Production Technician I',\n",
       "       'Production Technician I', 'Production Technician I',\n",
       "       'Production Technician II', 'Production Technician II',\n",
       "       'Production Technician I', 'Software Engineer',\n",
       "       'Production Technician I', 'Production Technician II',\n",
       "       'Production Technician I', 'Area Sales Manager',\n",
       "       'Production Technician I', 'Production Technician I',\n",
       "       'Production Manager', 'Production Technician II',\n",
       "       'Production Technician II', 'IT Manager - Infra',\n",
       "       'Production Technician II', 'Production Technician II',\n",
       "       'Network Engineer', 'Production Technician I',\n",
       "       'Production Technician II', 'Production Technician I',\n",
       "       'Senior BI Developer', 'Production Technician I',\n",
       "       'Production Technician I', 'Production Technician I',\n",
       "       'Production Technician I', 'Area Sales Manager',\n",
       "       'Production Technician I', 'Production Technician II',\n",
       "       'Production Technician I', 'Production Technician II',\n",
       "       'Area Sales Manager', 'Production Technician I',\n",
       "       'Production Technician I', 'Area Sales Manager',\n",
       "       'Production Technician I', 'Software Engineer', 'Data Analyst',\n",
       "       'Production Technician I', 'Production Technician II',\n",
       "       'Production Technician I', 'Production Technician II',\n",
       "       'Production Manager', 'Production Technician II', 'Data Analyst',\n",
       "       'Production Technician I', 'Production Technician I',\n",
       "       'Area Sales Manager', 'Production Technician I',\n",
       "       'Production Technician I', 'Production Technician I',\n",
       "       'Software Engineer', 'BI Developer', 'Production Technician I',\n",
       "       'Area Sales Manager', 'Production Technician I',\n",
       "       'Production Technician I', 'Production Technician II',\n",
       "       'Production Technician II', 'Production Technician I',\n",
       "       'Production Technician I', 'Production Technician I',\n",
       "       'Data Analyst', 'Principal Data Architect', 'Data Architect',\n",
       "       'Production Technician I', 'Production Technician I',\n",
       "       'IT Manager - DB', 'IT Manager - DB', 'Software Engineer',\n",
       "       'Production Technician I', 'Production Technician I',\n",
       "       'Production Technician II', 'Data Analyst ',\n",
       "       'Production Technician I', 'Production Technician I',\n",
       "       'Network Engineer', 'Production Technician I', 'Data Analyst',\n",
       "       'Administrative Assistant', 'Production Technician II',\n",
       "       'Production Technician II', 'Sales Manager',\n",
       "       'Administrative Assistant', 'Production Technician I',\n",
       "       'IT Support', 'Sr. Network Engineer', 'Production Technician I',\n",
       "       'Production Manager', 'Production Technician I',\n",
       "       'Production Technician I', 'Area Sales Manager', 'Accountant I',\n",
       "       'Production Technician I', 'Area Sales Manager',\n",
       "       'Production Manager', 'Production Technician I',\n",
       "       'Production Technician I', 'Software Engineer', 'BI Developer',\n",
       "       'Production Technician I', 'Production Technician II',\n",
       "       'Area Sales Manager', 'Production Technician I',\n",
       "       'Production Technician II', 'Production Technician I',\n",
       "       'Area Sales Manager', 'Production Technician I',\n",
       "       'Network Engineer', 'Software Engineer',\n",
       "       'Production Technician II', 'Network Engineer',\n",
       "       'Area Sales Manager', 'Production Technician I',\n",
       "       'Production Manager', 'Area Sales Manager',\n",
       "       'Database Administrator', 'Production Technician I',\n",
       "       'Production Technician I', 'Production Technician II',\n",
       "       'Production Manager', 'Production Technician I',\n",
       "       'Senior BI Developer', 'Sr. Network Engineer',\n",
       "       'Production Technician I', 'Production Technician I',\n",
       "       'Production Technician I', 'Production Technician I',\n",
       "       'Production Technician II', 'Production Technician II',\n",
       "       'Production Technician II', 'Production Technician I', 'CIO',\n",
       "       'Data Analyst', 'Production Technician I'], dtype=object)"
      ]
     },
     "execution_count": 195,
     "metadata": {},
     "output_type": "execute_result"
    }
   ],
   "source": [
    "df['Position'].values"
   ]
  },
  {
   "cell_type": "code",
   "execution_count": 188,
   "metadata": {},
   "outputs": [
    {
     "data": {
      "text/plain": [
       "<bound method IndexOpsMixin.transpose of 0      N/A-StillEmployed\n",
       "1          career change\n",
       "2                  hours\n",
       "3      N/A-StillEmployed\n",
       "4       return to school\n",
       "             ...        \n",
       "306    N/A-StillEmployed\n",
       "307     Another position\n",
       "308    N/A-StillEmployed\n",
       "309    N/A-StillEmployed\n",
       "310    N/A-StillEmployed\n",
       "Name: TermReason, Length: 311, dtype: object>"
      ]
     },
     "execution_count": 188,
     "metadata": {},
     "output_type": "execute_result"
    }
   ],
   "source": [
    "df[categorical_columns]['TermReason'].transpose"
   ]
  },
  {
   "cell_type": "code",
   "execution_count": 199,
   "metadata": {},
   "outputs": [
    {
     "data": {
      "text/plain": [
       "array(['Production       ', 'IT/IS', 'Production       ',\n",
       "       'Production       ', 'Production       ', 'Production       ',\n",
       "       'Software Engineering', 'Production       ', 'Production       ',\n",
       "       'IT/IS', 'Production       ', 'Production       ', 'IT/IS',\n",
       "       'Production       ', 'Production       ', 'Production       ',\n",
       "       'Production       ', 'Production       ', 'IT/IS',\n",
       "       'Production       ', 'Production       ', 'Production       ',\n",
       "       'Production       ', 'Production       ', 'Production       ',\n",
       "       'IT/IS', 'Admin Offices', 'Production       ', 'Production       ',\n",
       "       'Admin Offices', 'Production       ', 'Production       ', 'Sales',\n",
       "       'Production       ', 'Production       ', 'Software Engineering',\n",
       "       'Production       ', 'Software Engineering', 'Production       ',\n",
       "       'IT/IS', 'Sales', 'Production       ', 'IT/IS',\n",
       "       'Production       ', 'Production       ', 'Sales',\n",
       "       'Production       ', 'Production       ', 'IT/IS',\n",
       "       'Production       ', 'Production       ', 'Production       ',\n",
       "       'Production       ', 'Production       ', 'Production       ',\n",
       "       'Production       ', 'Production       ', 'IT/IS',\n",
       "       'Production       ', 'IT/IS', 'Sales', 'IT/IS',\n",
       "       'Production       ', 'Production       ', 'Production       ',\n",
       "       'Production       ', 'Software Engineering', 'Sales',\n",
       "       'Production       ', 'Production       ', 'IT/IS',\n",
       "       'Production       ', 'Sales', 'Production       ',\n",
       "       'Production       ', 'IT/IS', 'IT/IS', 'Sales',\n",
       "       'Production       ', 'Production       ', 'Production       ',\n",
       "       'Production       ', 'Production       ', 'Production       ',\n",
       "       'Production       ', 'Production       ', 'Software Engineering',\n",
       "       'Production       ', 'Production       ', 'Production       ',\n",
       "       'Production       ', 'IT/IS', 'Production       ',\n",
       "       'Production       ', 'Production       ', 'Sales', 'IT/IS',\n",
       "       'Admin Offices', 'Sales', 'IT/IS', 'Production       ',\n",
       "       'Production       ', 'Production       ', 'Production       ',\n",
       "       'Sales', 'Production       ', 'Production       ', 'Sales',\n",
       "       'IT/IS', 'IT/IS', 'Production       ', 'Production       ',\n",
       "       'Production       ', 'IT/IS', 'Production       ',\n",
       "       'Production       ', 'Production       ', 'Production       ',\n",
       "       'Production       ', 'Production       ', 'IT/IS', 'Sales',\n",
       "       'Production       ', 'Production       ', 'Production       ',\n",
       "       'Production       ', 'Production       ', 'Production       ',\n",
       "       'Sales', 'Production       ', 'IT/IS', 'Sales', 'Admin Offices',\n",
       "       'Production       ', 'Production       ', 'Production       ',\n",
       "       'Production       ', 'Production       ', 'Production       ',\n",
       "       'Production       ', 'Production       ', 'Production       ',\n",
       "       'Production       ', 'Production       ', 'IT/IS',\n",
       "       'Production       ', 'Production       ', 'Sales',\n",
       "       'Production       ', 'Sales', 'Executive Office',\n",
       "       'Production       ', 'Production       ', 'Production       ',\n",
       "       'Production       ', 'Sales', 'IT/IS', 'Production       ',\n",
       "       'Production       ', 'Production       ', 'Admin Offices',\n",
       "       'Production       ', 'IT/IS', 'Production       ', 'Admin Offices',\n",
       "       'Production       ', 'Sales', 'Production       ',\n",
       "       'Production       ', 'Production       ', 'IT/IS',\n",
       "       'Production       ', 'Production       ', 'Production       ',\n",
       "       'Production       ', 'Production       ', 'Production       ',\n",
       "       'Production       ', 'Production       ', 'Production       ',\n",
       "       'Software Engineering', 'Production       ', 'Production       ',\n",
       "       'Production       ', 'Sales', 'Production       ',\n",
       "       'Production       ', 'Production       ', 'Production       ',\n",
       "       'Production       ', 'IT/IS', 'Production       ',\n",
       "       'Production       ', 'IT/IS', 'Production       ',\n",
       "       'Production       ', 'Production       ', 'IT/IS',\n",
       "       'Production       ', 'Production       ', 'Production       ',\n",
       "       'Production       ', 'Sales', 'Production       ',\n",
       "       'Production       ', 'Production       ', 'Production       ',\n",
       "       'Sales', 'Production       ', 'Production       ', 'Sales',\n",
       "       'Production       ', 'Software Engineering', 'IT/IS',\n",
       "       'Production       ', 'Production       ', 'Production       ',\n",
       "       'Production       ', 'Production       ', 'Production       ',\n",
       "       'IT/IS', 'Production       ', 'Production       ', 'Sales',\n",
       "       'Production       ', 'Production       ', 'Production       ',\n",
       "       'Software Engineering', 'IT/IS', 'Production       ', 'Sales',\n",
       "       'Production       ', 'Production       ', 'Production       ',\n",
       "       'Production       ', 'Production       ', 'Production       ',\n",
       "       'Production       ', 'IT/IS', 'IT/IS', 'IT/IS',\n",
       "       'Production       ', 'Production       ', 'IT/IS', 'IT/IS',\n",
       "       'Software Engineering', 'Production       ', 'Production       ',\n",
       "       'Production       ', 'IT/IS', 'Production       ',\n",
       "       'Production       ', 'IT/IS', 'Production       ', 'IT/IS',\n",
       "       'Admin Offices', 'Production       ', 'Production       ', 'Sales',\n",
       "       'Admin Offices', 'Production       ', 'IT/IS', 'IT/IS',\n",
       "       'Production       ', 'Production       ', 'Production       ',\n",
       "       'Production       ', 'Sales', 'Admin Offices', 'Production       ',\n",
       "       'Sales', 'Production       ', 'Production       ',\n",
       "       'Production       ', 'Software Engineering', 'IT/IS',\n",
       "       'Production       ', 'Production       ', 'Sales',\n",
       "       'Production       ', 'Production       ', 'Production       ',\n",
       "       'Sales', 'Production       ', 'IT/IS', 'Software Engineering',\n",
       "       'Production       ', 'IT/IS', 'Sales', 'Production       ',\n",
       "       'Production       ', 'Sales', 'IT/IS', 'Production       ',\n",
       "       'Production       ', 'Production       ', 'Production       ',\n",
       "       'Production       ', 'IT/IS', 'IT/IS', 'Production       ',\n",
       "       'Production       ', 'Production       ', 'Production       ',\n",
       "       'Production       ', 'Production       ', 'Production       ',\n",
       "       'Production       ', 'IT/IS', 'IT/IS', 'Production       '],\n",
       "      dtype=object)"
      ]
     },
     "execution_count": 199,
     "metadata": {},
     "output_type": "execute_result"
    }
   ],
   "source": [
    "df['Department'].values"
   ]
  },
  {
   "cell_type": "code",
   "execution_count": 198,
   "metadata": {},
   "outputs": [
    {
     "data": {
      "text/plain": [
       "array(['Production       ', 'IT/IS', 'Software Engineering',\n",
       "       'Admin Offices', 'Sales', 'Executive Office'], dtype=object)"
      ]
     },
     "execution_count": 198,
     "metadata": {},
     "output_type": "execute_result"
    }
   ],
   "source": [
    "df['Department'].unique()"
   ]
  },
  {
   "cell_type": "code",
   "execution_count": 289,
   "metadata": {},
   "outputs": [],
   "source": [
    "from sklearn.compose import ColumnTransformer\n",
    "from sklearn.impute import SimpleImputer\n",
    "from sklearn.preprocessing import OrdinalEncoder, OneHotEncoder, StandardScaler\n",
    "from sklearn.pipeline import Pipeline\n",
    "from sklearn.preprocessing import LabelEncoder\n",
    "\n",
    "\n",
    "# Define column lists\n",
    "ordinal_categories = [['Exceeds', 'Fully Meets','Needs Improvement','PIP'],['Voluntarily Terminated','Active','Terminated for Cause'],['Production Technician I','Software Engineering Manager','Database Administrator','IT Support','Sr. DBA', 'Data Analyst','Area Sales Manager','BI Director','CIO','Production Manager', 'Sr. Accountant','Production Technician II','Accountant I','Enterprise Architect'],['Production','IT/IS','Software Engineering',\n",
    "       'Admin Offices', 'Sales', 'Executive Office']]  # Wrapped in another list for OrdinalEncoder\n",
    "ordinal_columns = ['PerformanceScore','TermReason','Department','Position']\n",
    "numerical_column = ['Salary','Termd',\n",
    "                     'EmpSatisfaction', \n",
    "                     'Absences']  # Removed 'Sex' from numerical columns\n",
    "\n",
    "# Create the ColumnTransformer\n",
    "transformer = ColumnTransformer(\n",
    "    transformers=[\n",
    "        ('num', Pipeline(steps=[\n",
    "            ('imputer', SimpleImputer(strategy='mean')),  # Impute missing values for numerical columns\n",
    "            ('scaler', StandardScaler())  # Scale numerical features\n",
    "        ]), numerical_column),\n",
    "        ('ord', Pipeline(steps=[\n",
    "            ('imputer', SimpleImputer(strategy='constant', fill_value='missing')),  # Impute missing values\n",
    "            ('ord_encoder', OrdinalEncoder(categories=ordinal_categories, handle_unknown='use_encoded_value', unknown_value=-1))\n",
    "        ]), ordinal_columns)  # Encode ordinal features\n",
    "    ],\n",
    "    remainder='passthrough'\n",
    ")\n",
    "\n",
    "\n",
    "\n",
    "\n"
   ]
  },
  {
   "cell_type": "code",
   "execution_count": 290,
   "metadata": {},
   "outputs": [],
   "source": [
    "from sklearn.model_selection import train_test_split\n",
    "X_train,X_test,y_train,y_test=train_test_split(x,y,test_size=0.25,random_state=42)"
   ]
  },
  {
   "cell_type": "code",
   "execution_count": 291,
   "metadata": {},
   "outputs": [
    {
     "data": {
      "text/plain": [
       "(233, 8)"
      ]
     },
     "execution_count": 291,
     "metadata": {},
     "output_type": "execute_result"
    }
   ],
   "source": [
    "X_train.shape"
   ]
  },
  {
   "cell_type": "code",
   "execution_count": 292,
   "metadata": {},
   "outputs": [
    {
     "data": {
      "text/plain": [
       "(78, 8)"
      ]
     },
     "execution_count": 292,
     "metadata": {},
     "output_type": "execute_result"
    }
   ],
   "source": [
    "X_test.shape"
   ]
  },
  {
   "cell_type": "code",
   "execution_count": 293,
   "metadata": {},
   "outputs": [
    {
     "data": {
      "text/plain": [
       "140                    Active\n",
       "208                    Active\n",
       "279    Voluntarily Terminated\n",
       "203                    Active\n",
       "144                    Active\n",
       "                ...          \n",
       "188    Voluntarily Terminated\n",
       "71                     Active\n",
       "106                    Active\n",
       "270                    Active\n",
       "102                    Active\n",
       "Name: EmploymentStatus, Length: 233, dtype: object"
      ]
     },
     "execution_count": 293,
     "metadata": {},
     "output_type": "execute_result"
    }
   ],
   "source": [
    "y_train"
   ]
  },
  {
   "cell_type": "code",
   "execution_count": 204,
   "metadata": {},
   "outputs": [
    {
     "data": {
      "text/html": [
       "<style>#sk-container-id-3 {color: black;background-color: white;}#sk-container-id-3 pre{padding: 0;}#sk-container-id-3 div.sk-toggleable {background-color: white;}#sk-container-id-3 label.sk-toggleable__label {cursor: pointer;display: block;width: 100%;margin-bottom: 0;padding: 0.3em;box-sizing: border-box;text-align: center;}#sk-container-id-3 label.sk-toggleable__label-arrow:before {content: \"▸\";float: left;margin-right: 0.25em;color: #696969;}#sk-container-id-3 label.sk-toggleable__label-arrow:hover:before {color: black;}#sk-container-id-3 div.sk-estimator:hover label.sk-toggleable__label-arrow:before {color: black;}#sk-container-id-3 div.sk-toggleable__content {max-height: 0;max-width: 0;overflow: hidden;text-align: left;background-color: #f0f8ff;}#sk-container-id-3 div.sk-toggleable__content pre {margin: 0.2em;color: black;border-radius: 0.25em;background-color: #f0f8ff;}#sk-container-id-3 input.sk-toggleable__control:checked~div.sk-toggleable__content {max-height: 200px;max-width: 100%;overflow: auto;}#sk-container-id-3 input.sk-toggleable__control:checked~label.sk-toggleable__label-arrow:before {content: \"▾\";}#sk-container-id-3 div.sk-estimator input.sk-toggleable__control:checked~label.sk-toggleable__label {background-color: #d4ebff;}#sk-container-id-3 div.sk-label input.sk-toggleable__control:checked~label.sk-toggleable__label {background-color: #d4ebff;}#sk-container-id-3 input.sk-hidden--visually {border: 0;clip: rect(1px 1px 1px 1px);clip: rect(1px, 1px, 1px, 1px);height: 1px;margin: -1px;overflow: hidden;padding: 0;position: absolute;width: 1px;}#sk-container-id-3 div.sk-estimator {font-family: monospace;background-color: #f0f8ff;border: 1px dotted black;border-radius: 0.25em;box-sizing: border-box;margin-bottom: 0.5em;}#sk-container-id-3 div.sk-estimator:hover {background-color: #d4ebff;}#sk-container-id-3 div.sk-parallel-item::after {content: \"\";width: 100%;border-bottom: 1px solid gray;flex-grow: 1;}#sk-container-id-3 div.sk-label:hover label.sk-toggleable__label {background-color: #d4ebff;}#sk-container-id-3 div.sk-serial::before {content: \"\";position: absolute;border-left: 1px solid gray;box-sizing: border-box;top: 0;bottom: 0;left: 50%;z-index: 0;}#sk-container-id-3 div.sk-serial {display: flex;flex-direction: column;align-items: center;background-color: white;padding-right: 0.2em;padding-left: 0.2em;position: relative;}#sk-container-id-3 div.sk-item {position: relative;z-index: 1;}#sk-container-id-3 div.sk-parallel {display: flex;align-items: stretch;justify-content: center;background-color: white;position: relative;}#sk-container-id-3 div.sk-item::before, #sk-container-id-3 div.sk-parallel-item::before {content: \"\";position: absolute;border-left: 1px solid gray;box-sizing: border-box;top: 0;bottom: 0;left: 50%;z-index: -1;}#sk-container-id-3 div.sk-parallel-item {display: flex;flex-direction: column;z-index: 1;position: relative;background-color: white;}#sk-container-id-3 div.sk-parallel-item:first-child::after {align-self: flex-end;width: 50%;}#sk-container-id-3 div.sk-parallel-item:last-child::after {align-self: flex-start;width: 50%;}#sk-container-id-3 div.sk-parallel-item:only-child::after {width: 0;}#sk-container-id-3 div.sk-dashed-wrapped {border: 1px dashed gray;margin: 0 0.4em 0.5em 0.4em;box-sizing: border-box;padding-bottom: 0.4em;background-color: white;}#sk-container-id-3 div.sk-label label {font-family: monospace;font-weight: bold;display: inline-block;line-height: 1.2em;}#sk-container-id-3 div.sk-label-container {text-align: center;}#sk-container-id-3 div.sk-container {/* jupyter's `normalize.less` sets `[hidden] { display: none; }` but bootstrap.min.css set `[hidden] { display: none !important; }` so we also need the `!important` here to be able to override the default hidden behavior on the sphinx rendered scikit-learn.org. See: https://github.com/scikit-learn/scikit-learn/issues/21755 */display: inline-block !important;position: relative;}#sk-container-id-3 div.sk-text-repr-fallback {display: none;}</style><div id=\"sk-container-id-3\" class=\"sk-top-container\"><div class=\"sk-text-repr-fallback\"><pre>ColumnTransformer(remainder=&#x27;passthrough&#x27;,\n",
       "                  transformers=[(&#x27;num&#x27;,\n",
       "                                 Pipeline(steps=[(&#x27;imputer&#x27;, SimpleImputer()),\n",
       "                                                 (&#x27;scaler&#x27;, StandardScaler())]),\n",
       "                                 [&#x27;Salary&#x27;, &#x27;Termd&#x27;, &#x27;EmpSatisfaction&#x27;,\n",
       "                                  &#x27;Absences&#x27;]),\n",
       "                                (&#x27;ord&#x27;,\n",
       "                                 Pipeline(steps=[(&#x27;imputer&#x27;,\n",
       "                                                  SimpleImputer(fill_value=&#x27;missing&#x27;,\n",
       "                                                                strategy=&#x27;constant&#x27;)),\n",
       "                                                 (&#x27;ord_encoder&#x27;,\n",
       "                                                  OrdinalEncoder(categories=[[&#x27;Exceeds&#x27;,\n",
       "                                                                              &#x27;Fully &#x27;\n",
       "                                                                              &#x27;Meets&#x27;,\n",
       "                                                                              &#x27;Need...\n",
       "                                                                              &#x27;Manager&#x27;,\n",
       "                                                                              &#x27;BI &#x27;\n",
       "                                                                              &#x27;Director&#x27;,\n",
       "                                                                              &#x27;CIO&#x27;,\n",
       "                                                                              &#x27;Production &#x27;\n",
       "                                                                              &#x27;Manager&#x27;,\n",
       "                                                                              &#x27;Sr. &#x27;\n",
       "                                                                              &#x27;Accountant&#x27;,\n",
       "                                                                              &#x27;Production &#x27;\n",
       "                                                                              &#x27;Technician &#x27;\n",
       "                                                                              &#x27;II&#x27;,\n",
       "                                                                              &#x27;Accountant &#x27;\n",
       "                                                                              &#x27;I&#x27;,\n",
       "                                                                              &#x27;Enterprise &#x27;\n",
       "                                                                              &#x27;Architect&#x27;],\n",
       "                                                                             [&#x27;Production&#x27;,\n",
       "                                                                              &#x27;IT/IS&#x27;,\n",
       "                                                                              &#x27;Software &#x27;\n",
       "                                                                              &#x27;Engineering&#x27;,\n",
       "                                                                              &#x27;Admin &#x27;\n",
       "                                                                              &#x27;Offices&#x27;,\n",
       "                                                                              &#x27;Sales&#x27;,\n",
       "                                                                              &#x27;Executive &#x27;\n",
       "                                                                              &#x27;Office&#x27;]],\n",
       "                                                                 handle_unknown=&#x27;use_encoded_value&#x27;,\n",
       "                                                                 unknown_value=-1))]),\n",
       "                                 [&#x27;PerformanceScore&#x27;, &#x27;TermReason&#x27;,\n",
       "                                  &#x27;Department&#x27;, &#x27;Position&#x27;])])</pre><b>In a Jupyter environment, please rerun this cell to show the HTML representation or trust the notebook. <br />On GitHub, the HTML representation is unable to render, please try loading this page with nbviewer.org.</b></div><div class=\"sk-container\" hidden><div class=\"sk-item sk-dashed-wrapped\"><div class=\"sk-label-container\"><div class=\"sk-label sk-toggleable\"><input class=\"sk-toggleable__control sk-hidden--visually\" id=\"sk-estimator-id-25\" type=\"checkbox\" ><label for=\"sk-estimator-id-25\" class=\"sk-toggleable__label sk-toggleable__label-arrow\">ColumnTransformer</label><div class=\"sk-toggleable__content\"><pre>ColumnTransformer(remainder=&#x27;passthrough&#x27;,\n",
       "                  transformers=[(&#x27;num&#x27;,\n",
       "                                 Pipeline(steps=[(&#x27;imputer&#x27;, SimpleImputer()),\n",
       "                                                 (&#x27;scaler&#x27;, StandardScaler())]),\n",
       "                                 [&#x27;Salary&#x27;, &#x27;Termd&#x27;, &#x27;EmpSatisfaction&#x27;,\n",
       "                                  &#x27;Absences&#x27;]),\n",
       "                                (&#x27;ord&#x27;,\n",
       "                                 Pipeline(steps=[(&#x27;imputer&#x27;,\n",
       "                                                  SimpleImputer(fill_value=&#x27;missing&#x27;,\n",
       "                                                                strategy=&#x27;constant&#x27;)),\n",
       "                                                 (&#x27;ord_encoder&#x27;,\n",
       "                                                  OrdinalEncoder(categories=[[&#x27;Exceeds&#x27;,\n",
       "                                                                              &#x27;Fully &#x27;\n",
       "                                                                              &#x27;Meets&#x27;,\n",
       "                                                                              &#x27;Need...\n",
       "                                                                              &#x27;Manager&#x27;,\n",
       "                                                                              &#x27;BI &#x27;\n",
       "                                                                              &#x27;Director&#x27;,\n",
       "                                                                              &#x27;CIO&#x27;,\n",
       "                                                                              &#x27;Production &#x27;\n",
       "                                                                              &#x27;Manager&#x27;,\n",
       "                                                                              &#x27;Sr. &#x27;\n",
       "                                                                              &#x27;Accountant&#x27;,\n",
       "                                                                              &#x27;Production &#x27;\n",
       "                                                                              &#x27;Technician &#x27;\n",
       "                                                                              &#x27;II&#x27;,\n",
       "                                                                              &#x27;Accountant &#x27;\n",
       "                                                                              &#x27;I&#x27;,\n",
       "                                                                              &#x27;Enterprise &#x27;\n",
       "                                                                              &#x27;Architect&#x27;],\n",
       "                                                                             [&#x27;Production&#x27;,\n",
       "                                                                              &#x27;IT/IS&#x27;,\n",
       "                                                                              &#x27;Software &#x27;\n",
       "                                                                              &#x27;Engineering&#x27;,\n",
       "                                                                              &#x27;Admin &#x27;\n",
       "                                                                              &#x27;Offices&#x27;,\n",
       "                                                                              &#x27;Sales&#x27;,\n",
       "                                                                              &#x27;Executive &#x27;\n",
       "                                                                              &#x27;Office&#x27;]],\n",
       "                                                                 handle_unknown=&#x27;use_encoded_value&#x27;,\n",
       "                                                                 unknown_value=-1))]),\n",
       "                                 [&#x27;PerformanceScore&#x27;, &#x27;TermReason&#x27;,\n",
       "                                  &#x27;Department&#x27;, &#x27;Position&#x27;])])</pre></div></div></div><div class=\"sk-parallel\"><div class=\"sk-parallel-item\"><div class=\"sk-item\"><div class=\"sk-label-container\"><div class=\"sk-label sk-toggleable\"><input class=\"sk-toggleable__control sk-hidden--visually\" id=\"sk-estimator-id-26\" type=\"checkbox\" ><label for=\"sk-estimator-id-26\" class=\"sk-toggleable__label sk-toggleable__label-arrow\">num</label><div class=\"sk-toggleable__content\"><pre>[&#x27;Salary&#x27;, &#x27;Termd&#x27;, &#x27;EmpSatisfaction&#x27;, &#x27;Absences&#x27;]</pre></div></div></div><div class=\"sk-serial\"><div class=\"sk-item\"><div class=\"sk-serial\"><div class=\"sk-item\"><div class=\"sk-estimator sk-toggleable\"><input class=\"sk-toggleable__control sk-hidden--visually\" id=\"sk-estimator-id-27\" type=\"checkbox\" ><label for=\"sk-estimator-id-27\" class=\"sk-toggleable__label sk-toggleable__label-arrow\">SimpleImputer</label><div class=\"sk-toggleable__content\"><pre>SimpleImputer()</pre></div></div></div><div class=\"sk-item\"><div class=\"sk-estimator sk-toggleable\"><input class=\"sk-toggleable__control sk-hidden--visually\" id=\"sk-estimator-id-28\" type=\"checkbox\" ><label for=\"sk-estimator-id-28\" class=\"sk-toggleable__label sk-toggleable__label-arrow\">StandardScaler</label><div class=\"sk-toggleable__content\"><pre>StandardScaler()</pre></div></div></div></div></div></div></div></div><div class=\"sk-parallel-item\"><div class=\"sk-item\"><div class=\"sk-label-container\"><div class=\"sk-label sk-toggleable\"><input class=\"sk-toggleable__control sk-hidden--visually\" id=\"sk-estimator-id-29\" type=\"checkbox\" ><label for=\"sk-estimator-id-29\" class=\"sk-toggleable__label sk-toggleable__label-arrow\">ord</label><div class=\"sk-toggleable__content\"><pre>[&#x27;PerformanceScore&#x27;, &#x27;TermReason&#x27;, &#x27;Department&#x27;, &#x27;Position&#x27;]</pre></div></div></div><div class=\"sk-serial\"><div class=\"sk-item\"><div class=\"sk-serial\"><div class=\"sk-item\"><div class=\"sk-estimator sk-toggleable\"><input class=\"sk-toggleable__control sk-hidden--visually\" id=\"sk-estimator-id-30\" type=\"checkbox\" ><label for=\"sk-estimator-id-30\" class=\"sk-toggleable__label sk-toggleable__label-arrow\">SimpleImputer</label><div class=\"sk-toggleable__content\"><pre>SimpleImputer(fill_value=&#x27;missing&#x27;, strategy=&#x27;constant&#x27;)</pre></div></div></div><div class=\"sk-item\"><div class=\"sk-estimator sk-toggleable\"><input class=\"sk-toggleable__control sk-hidden--visually\" id=\"sk-estimator-id-31\" type=\"checkbox\" ><label for=\"sk-estimator-id-31\" class=\"sk-toggleable__label sk-toggleable__label-arrow\">OrdinalEncoder</label><div class=\"sk-toggleable__content\"><pre>OrdinalEncoder(categories=[[&#x27;Exceeds&#x27;, &#x27;Fully Meets&#x27;, &#x27;Needs Improvement&#x27;,\n",
       "                            &#x27;PIP&#x27;],\n",
       "                           [&#x27;Voluntarily Terminated&#x27;, &#x27;Active&#x27;,\n",
       "                            &#x27;Terminated for Cause&#x27;],\n",
       "                           [&#x27;Production Technician I&#x27;,\n",
       "                            &#x27;Software Engineering Manager&#x27;,\n",
       "                            &#x27;Database Administrator&#x27;, &#x27;IT Support&#x27;, &#x27;Sr. DBA&#x27;,\n",
       "                            &#x27;Data Analyst&#x27;, &#x27;Area Sales Manager&#x27;, &#x27;BI Director&#x27;,\n",
       "                            &#x27;CIO&#x27;, &#x27;Production Manager&#x27;, &#x27;Sr. Accountant&#x27;,\n",
       "                            &#x27;Production Technician II&#x27;, &#x27;Accountant I&#x27;,\n",
       "                            &#x27;Enterprise Architect&#x27;],\n",
       "                           [&#x27;Production&#x27;, &#x27;IT/IS&#x27;, &#x27;Software Engineering&#x27;,\n",
       "                            &#x27;Admin Offices&#x27;, &#x27;Sales&#x27;, &#x27;Executive Office&#x27;]],\n",
       "               handle_unknown=&#x27;use_encoded_value&#x27;, unknown_value=-1)</pre></div></div></div></div></div></div></div></div><div class=\"sk-parallel-item\"><div class=\"sk-item\"><div class=\"sk-label-container\"><div class=\"sk-label sk-toggleable\"><input class=\"sk-toggleable__control sk-hidden--visually\" id=\"sk-estimator-id-32\" type=\"checkbox\" ><label for=\"sk-estimator-id-32\" class=\"sk-toggleable__label sk-toggleable__label-arrow\">remainder</label><div class=\"sk-toggleable__content\"><pre></pre></div></div></div><div class=\"sk-serial\"><div class=\"sk-item\"><div class=\"sk-estimator sk-toggleable\"><input class=\"sk-toggleable__control sk-hidden--visually\" id=\"sk-estimator-id-33\" type=\"checkbox\" ><label for=\"sk-estimator-id-33\" class=\"sk-toggleable__label sk-toggleable__label-arrow\">passthrough</label><div class=\"sk-toggleable__content\"><pre>passthrough</pre></div></div></div></div></div></div></div></div></div></div>"
      ],
      "text/plain": [
       "ColumnTransformer(remainder='passthrough',\n",
       "                  transformers=[('num',\n",
       "                                 Pipeline(steps=[('imputer', SimpleImputer()),\n",
       "                                                 ('scaler', StandardScaler())]),\n",
       "                                 ['Salary', 'Termd', 'EmpSatisfaction',\n",
       "                                  'Absences']),\n",
       "                                ('ord',\n",
       "                                 Pipeline(steps=[('imputer',\n",
       "                                                  SimpleImputer(fill_value='missing',\n",
       "                                                                strategy='constant')),\n",
       "                                                 ('ord_encoder',\n",
       "                                                  OrdinalEncoder(categories=[['Exceeds',\n",
       "                                                                              'Fully '\n",
       "                                                                              'Meets',\n",
       "                                                                              'Need...\n",
       "                                                                              'Manager',\n",
       "                                                                              'BI '\n",
       "                                                                              'Director',\n",
       "                                                                              'CIO',\n",
       "                                                                              'Production '\n",
       "                                                                              'Manager',\n",
       "                                                                              'Sr. '\n",
       "                                                                              'Accountant',\n",
       "                                                                              'Production '\n",
       "                                                                              'Technician '\n",
       "                                                                              'II',\n",
       "                                                                              'Accountant '\n",
       "                                                                              'I',\n",
       "                                                                              'Enterprise '\n",
       "                                                                              'Architect'],\n",
       "                                                                             ['Production',\n",
       "                                                                              'IT/IS',\n",
       "                                                                              'Software '\n",
       "                                                                              'Engineering',\n",
       "                                                                              'Admin '\n",
       "                                                                              'Offices',\n",
       "                                                                              'Sales',\n",
       "                                                                              'Executive '\n",
       "                                                                              'Office']],\n",
       "                                                                 handle_unknown='use_encoded_value',\n",
       "                                                                 unknown_value=-1))]),\n",
       "                                 ['PerformanceScore', 'TermReason',\n",
       "                                  'Department', 'Position'])])"
      ]
     },
     "execution_count": 204,
     "metadata": {},
     "output_type": "execute_result"
    }
   ],
   "source": [
    "transformer"
   ]
  },
  {
   "cell_type": "code",
   "execution_count": 295,
   "metadata": {},
   "outputs": [],
   "source": [
    "x_scale_train=transformer.fit_transform(X_train)"
   ]
  },
  {
   "cell_type": "code",
   "execution_count": 297,
   "metadata": {},
   "outputs": [],
   "source": [
    "x_scale_test=transformer.transform(X_test)"
   ]
  },
  {
   "cell_type": "code",
   "execution_count": 298,
   "metadata": {},
   "outputs": [
    {
     "data": {
      "text/plain": [
       "140                    Active\n",
       "208                    Active\n",
       "279    Voluntarily Terminated\n",
       "203                    Active\n",
       "144                    Active\n",
       "                ...          \n",
       "188    Voluntarily Terminated\n",
       "71                     Active\n",
       "106                    Active\n",
       "270                    Active\n",
       "102                    Active\n",
       "Name: EmploymentStatus, Length: 233, dtype: object"
      ]
     },
     "execution_count": 298,
     "metadata": {},
     "output_type": "execute_result"
    }
   ],
   "source": [
    "y_train"
   ]
  },
  {
   "cell_type": "markdown",
   "metadata": {},
   "source": [
    "y_train"
   ]
  },
  {
   "cell_type": "code",
   "execution_count": 299,
   "metadata": {},
   "outputs": [],
   "source": [
    "X_train=pd.DataFrame(x_scale_train,columns=transformer.get_feature_names_out())\n",
    "X_test=pd.DataFrame(x_scale_test,columns=transformer.get_feature_names_out())\n"
   ]
  },
  {
   "cell_type": "code",
   "execution_count": 300,
   "metadata": {},
   "outputs": [
    {
     "data": {
      "text/html": [
       "<div>\n",
       "<style scoped>\n",
       "    .dataframe tbody tr th:only-of-type {\n",
       "        vertical-align: middle;\n",
       "    }\n",
       "\n",
       "    .dataframe tbody tr th {\n",
       "        vertical-align: top;\n",
       "    }\n",
       "\n",
       "    .dataframe thead th {\n",
       "        text-align: right;\n",
       "    }\n",
       "</style>\n",
       "<table border=\"1\" class=\"dataframe\">\n",
       "  <thead>\n",
       "    <tr style=\"text-align: right;\">\n",
       "      <th></th>\n",
       "      <th>num__Salary</th>\n",
       "      <th>num__Termd</th>\n",
       "      <th>num__EmpSatisfaction</th>\n",
       "      <th>num__Absences</th>\n",
       "      <th>ord__PerformanceScore</th>\n",
       "      <th>ord__TermReason</th>\n",
       "      <th>ord__Department</th>\n",
       "      <th>ord__Position</th>\n",
       "    </tr>\n",
       "  </thead>\n",
       "  <tbody>\n",
       "    <tr>\n",
       "      <th>0</th>\n",
       "      <td>-0.947696</td>\n",
       "      <td>-0.716231</td>\n",
       "      <td>1.254915</td>\n",
       "      <td>-0.513656</td>\n",
       "      <td>1.0</td>\n",
       "      <td>-1.0</td>\n",
       "      <td>-1.0</td>\n",
       "      <td>-1.0</td>\n",
       "    </tr>\n",
       "    <tr>\n",
       "      <th>1</th>\n",
       "      <td>-0.852641</td>\n",
       "      <td>-0.716231</td>\n",
       "      <td>-0.927139</td>\n",
       "      <td>0.531600</td>\n",
       "      <td>0.0</td>\n",
       "      <td>-1.0</td>\n",
       "      <td>-1.0</td>\n",
       "      <td>-1.0</td>\n",
       "    </tr>\n",
       "    <tr>\n",
       "      <th>2</th>\n",
       "      <td>-0.812147</td>\n",
       "      <td>1.396197</td>\n",
       "      <td>0.163888</td>\n",
       "      <td>-1.558912</td>\n",
       "      <td>1.0</td>\n",
       "      <td>-1.0</td>\n",
       "      <td>-1.0</td>\n",
       "      <td>-1.0</td>\n",
       "    </tr>\n",
       "    <tr>\n",
       "      <th>3</th>\n",
       "      <td>-0.258925</td>\n",
       "      <td>-0.716231</td>\n",
       "      <td>1.254915</td>\n",
       "      <td>-1.036284</td>\n",
       "      <td>1.0</td>\n",
       "      <td>-1.0</td>\n",
       "      <td>-1.0</td>\n",
       "      <td>-1.0</td>\n",
       "    </tr>\n",
       "    <tr>\n",
       "      <th>4</th>\n",
       "      <td>1.509981</td>\n",
       "      <td>-0.716231</td>\n",
       "      <td>-0.927139</td>\n",
       "      <td>-1.384702</td>\n",
       "      <td>1.0</td>\n",
       "      <td>-1.0</td>\n",
       "      <td>-1.0</td>\n",
       "      <td>-1.0</td>\n",
       "    </tr>\n",
       "    <tr>\n",
       "      <th>...</th>\n",
       "      <td>...</td>\n",
       "      <td>...</td>\n",
       "      <td>...</td>\n",
       "      <td>...</td>\n",
       "      <td>...</td>\n",
       "      <td>...</td>\n",
       "      <td>...</td>\n",
       "      <td>...</td>\n",
       "    </tr>\n",
       "    <tr>\n",
       "      <th>228</th>\n",
       "      <td>-0.512715</td>\n",
       "      <td>1.396197</td>\n",
       "      <td>-2.018165</td>\n",
       "      <td>-0.687865</td>\n",
       "      <td>3.0</td>\n",
       "      <td>-1.0</td>\n",
       "      <td>-1.0</td>\n",
       "      <td>-1.0</td>\n",
       "    </tr>\n",
       "    <tr>\n",
       "      <th>229</th>\n",
       "      <td>-0.696784</td>\n",
       "      <td>-0.716231</td>\n",
       "      <td>0.163888</td>\n",
       "      <td>-1.558912</td>\n",
       "      <td>1.0</td>\n",
       "      <td>-1.0</td>\n",
       "      <td>-1.0</td>\n",
       "      <td>-1.0</td>\n",
       "    </tr>\n",
       "    <tr>\n",
       "      <th>230</th>\n",
       "      <td>-0.431037</td>\n",
       "      <td>-0.716231</td>\n",
       "      <td>0.163888</td>\n",
       "      <td>-1.210493</td>\n",
       "      <td>0.0</td>\n",
       "      <td>-1.0</td>\n",
       "      <td>-1.0</td>\n",
       "      <td>-1.0</td>\n",
       "    </tr>\n",
       "    <tr>\n",
       "      <th>231</th>\n",
       "      <td>-0.337604</td>\n",
       "      <td>-0.716231</td>\n",
       "      <td>0.163888</td>\n",
       "      <td>1.402647</td>\n",
       "      <td>1.0</td>\n",
       "      <td>-1.0</td>\n",
       "      <td>-1.0</td>\n",
       "      <td>-1.0</td>\n",
       "    </tr>\n",
       "    <tr>\n",
       "      <th>232</th>\n",
       "      <td>-0.693622</td>\n",
       "      <td>-0.716231</td>\n",
       "      <td>-0.927139</td>\n",
       "      <td>1.576856</td>\n",
       "      <td>1.0</td>\n",
       "      <td>-1.0</td>\n",
       "      <td>-1.0</td>\n",
       "      <td>-1.0</td>\n",
       "    </tr>\n",
       "  </tbody>\n",
       "</table>\n",
       "<p>233 rows × 8 columns</p>\n",
       "</div>"
      ],
      "text/plain": [
       "     num__Salary  num__Termd  num__EmpSatisfaction  num__Absences  \\\n",
       "0      -0.947696   -0.716231              1.254915      -0.513656   \n",
       "1      -0.852641   -0.716231             -0.927139       0.531600   \n",
       "2      -0.812147    1.396197              0.163888      -1.558912   \n",
       "3      -0.258925   -0.716231              1.254915      -1.036284   \n",
       "4       1.509981   -0.716231             -0.927139      -1.384702   \n",
       "..           ...         ...                   ...            ...   \n",
       "228    -0.512715    1.396197             -2.018165      -0.687865   \n",
       "229    -0.696784   -0.716231              0.163888      -1.558912   \n",
       "230    -0.431037   -0.716231              0.163888      -1.210493   \n",
       "231    -0.337604   -0.716231              0.163888       1.402647   \n",
       "232    -0.693622   -0.716231             -0.927139       1.576856   \n",
       "\n",
       "     ord__PerformanceScore  ord__TermReason  ord__Department  ord__Position  \n",
       "0                      1.0             -1.0             -1.0           -1.0  \n",
       "1                      0.0             -1.0             -1.0           -1.0  \n",
       "2                      1.0             -1.0             -1.0           -1.0  \n",
       "3                      1.0             -1.0             -1.0           -1.0  \n",
       "4                      1.0             -1.0             -1.0           -1.0  \n",
       "..                     ...              ...              ...            ...  \n",
       "228                    3.0             -1.0             -1.0           -1.0  \n",
       "229                    1.0             -1.0             -1.0           -1.0  \n",
       "230                    0.0             -1.0             -1.0           -1.0  \n",
       "231                    1.0             -1.0             -1.0           -1.0  \n",
       "232                    1.0             -1.0             -1.0           -1.0  \n",
       "\n",
       "[233 rows x 8 columns]"
      ]
     },
     "execution_count": 300,
     "metadata": {},
     "output_type": "execute_result"
    }
   ],
   "source": [
    "X_train"
   ]
  },
  {
   "cell_type": "code",
   "execution_count": 301,
   "metadata": {},
   "outputs": [
    {
     "data": {
      "text/plain": [
       "140                    Active\n",
       "208                    Active\n",
       "279    Voluntarily Terminated\n",
       "203                    Active\n",
       "144                    Active\n",
       "                ...          \n",
       "188    Voluntarily Terminated\n",
       "71                     Active\n",
       "106                    Active\n",
       "270                    Active\n",
       "102                    Active\n",
       "Name: EmploymentStatus, Length: 233, dtype: object"
      ]
     },
     "execution_count": 301,
     "metadata": {},
     "output_type": "execute_result"
    }
   ],
   "source": [
    "y_train"
   ]
  },
  {
   "cell_type": "code",
   "execution_count": 215,
   "metadata": {},
   "outputs": [
    {
     "name": "stdout",
     "output_type": "stream",
     "text": [
      "(233, 8)\n"
     ]
    }
   ],
   "source": [
    "print(X_train.shape)"
   ]
  },
  {
   "cell_type": "code",
   "execution_count": 216,
   "metadata": {},
   "outputs": [
    {
     "name": "stdout",
     "output_type": "stream",
     "text": [
      "(233,)\n"
     ]
    }
   ],
   "source": [
    "print(y_train.shape)"
   ]
  },
  {
   "cell_type": "code",
   "execution_count": 217,
   "metadata": {},
   "outputs": [
    {
     "data": {
      "text/html": [
       "<div>\n",
       "<style scoped>\n",
       "    .dataframe tbody tr th:only-of-type {\n",
       "        vertical-align: middle;\n",
       "    }\n",
       "\n",
       "    .dataframe tbody tr th {\n",
       "        vertical-align: top;\n",
       "    }\n",
       "\n",
       "    .dataframe thead th {\n",
       "        text-align: right;\n",
       "    }\n",
       "</style>\n",
       "<table border=\"1\" class=\"dataframe\">\n",
       "  <thead>\n",
       "    <tr style=\"text-align: right;\">\n",
       "      <th></th>\n",
       "      <th>num__Salary</th>\n",
       "      <th>num__Termd</th>\n",
       "      <th>num__EmpSatisfaction</th>\n",
       "      <th>num__Absences</th>\n",
       "      <th>ord__PerformanceScore</th>\n",
       "      <th>ord__TermReason</th>\n",
       "      <th>ord__Department</th>\n",
       "      <th>ord__Position</th>\n",
       "    </tr>\n",
       "  </thead>\n",
       "  <tbody>\n",
       "    <tr>\n",
       "      <th>0</th>\n",
       "      <td>0.832074</td>\n",
       "      <td>-0.716231</td>\n",
       "      <td>-0.927139</td>\n",
       "      <td>1.576856</td>\n",
       "      <td>1.0</td>\n",
       "      <td>-1.0</td>\n",
       "      <td>-1.0</td>\n",
       "      <td>-1.0</td>\n",
       "    </tr>\n",
       "    <tr>\n",
       "      <th>1</th>\n",
       "      <td>-0.740602</td>\n",
       "      <td>-0.716231</td>\n",
       "      <td>1.254915</td>\n",
       "      <td>1.054228</td>\n",
       "      <td>1.0</td>\n",
       "      <td>-1.0</td>\n",
       "      <td>-1.0</td>\n",
       "      <td>-1.0</td>\n",
       "    </tr>\n",
       "    <tr>\n",
       "      <th>2</th>\n",
       "      <td>0.612212</td>\n",
       "      <td>-0.716231</td>\n",
       "      <td>-0.927139</td>\n",
       "      <td>-1.384702</td>\n",
       "      <td>1.0</td>\n",
       "      <td>-1.0</td>\n",
       "      <td>-1.0</td>\n",
       "      <td>-1.0</td>\n",
       "    </tr>\n",
       "    <tr>\n",
       "      <th>3</th>\n",
       "      <td>-0.110243</td>\n",
       "      <td>-0.716231</td>\n",
       "      <td>0.163888</td>\n",
       "      <td>-0.339446</td>\n",
       "      <td>1.0</td>\n",
       "      <td>-1.0</td>\n",
       "      <td>-1.0</td>\n",
       "      <td>-1.0</td>\n",
       "    </tr>\n",
       "    <tr>\n",
       "      <th>4</th>\n",
       "      <td>1.425385</td>\n",
       "      <td>1.396197</td>\n",
       "      <td>1.254915</td>\n",
       "      <td>-1.384702</td>\n",
       "      <td>1.0</td>\n",
       "      <td>-1.0</td>\n",
       "      <td>-1.0</td>\n",
       "      <td>-1.0</td>\n",
       "    </tr>\n",
       "    <tr>\n",
       "      <th>...</th>\n",
       "      <td>...</td>\n",
       "      <td>...</td>\n",
       "      <td>...</td>\n",
       "      <td>...</td>\n",
       "      <td>...</td>\n",
       "      <td>...</td>\n",
       "      <td>...</td>\n",
       "      <td>...</td>\n",
       "    </tr>\n",
       "    <tr>\n",
       "      <th>73</th>\n",
       "      <td>-0.128119</td>\n",
       "      <td>-0.716231</td>\n",
       "      <td>-0.927139</td>\n",
       "      <td>-0.165237</td>\n",
       "      <td>1.0</td>\n",
       "      <td>-1.0</td>\n",
       "      <td>-1.0</td>\n",
       "      <td>-1.0</td>\n",
       "    </tr>\n",
       "    <tr>\n",
       "      <th>74</th>\n",
       "      <td>-0.224511</td>\n",
       "      <td>-0.716231</td>\n",
       "      <td>-0.927139</td>\n",
       "      <td>1.576856</td>\n",
       "      <td>0.0</td>\n",
       "      <td>-1.0</td>\n",
       "      <td>-1.0</td>\n",
       "      <td>-1.0</td>\n",
       "    </tr>\n",
       "    <tr>\n",
       "      <th>75</th>\n",
       "      <td>-0.412472</td>\n",
       "      <td>-0.716231</td>\n",
       "      <td>-2.018165</td>\n",
       "      <td>-0.862074</td>\n",
       "      <td>3.0</td>\n",
       "      <td>-1.0</td>\n",
       "      <td>-1.0</td>\n",
       "      <td>-1.0</td>\n",
       "    </tr>\n",
       "    <tr>\n",
       "      <th>76</th>\n",
       "      <td>-0.205419</td>\n",
       "      <td>-0.716231</td>\n",
       "      <td>1.254915</td>\n",
       "      <td>-0.687865</td>\n",
       "      <td>1.0</td>\n",
       "      <td>-1.0</td>\n",
       "      <td>-1.0</td>\n",
       "      <td>-1.0</td>\n",
       "    </tr>\n",
       "    <tr>\n",
       "      <th>77</th>\n",
       "      <td>-0.728280</td>\n",
       "      <td>-0.716231</td>\n",
       "      <td>0.163888</td>\n",
       "      <td>0.008972</td>\n",
       "      <td>1.0</td>\n",
       "      <td>-1.0</td>\n",
       "      <td>-1.0</td>\n",
       "      <td>-1.0</td>\n",
       "    </tr>\n",
       "  </tbody>\n",
       "</table>\n",
       "<p>78 rows × 8 columns</p>\n",
       "</div>"
      ],
      "text/plain": [
       "    num__Salary  num__Termd  num__EmpSatisfaction  num__Absences  \\\n",
       "0      0.832074   -0.716231             -0.927139       1.576856   \n",
       "1     -0.740602   -0.716231              1.254915       1.054228   \n",
       "2      0.612212   -0.716231             -0.927139      -1.384702   \n",
       "3     -0.110243   -0.716231              0.163888      -0.339446   \n",
       "4      1.425385    1.396197              1.254915      -1.384702   \n",
       "..          ...         ...                   ...            ...   \n",
       "73    -0.128119   -0.716231             -0.927139      -0.165237   \n",
       "74    -0.224511   -0.716231             -0.927139       1.576856   \n",
       "75    -0.412472   -0.716231             -2.018165      -0.862074   \n",
       "76    -0.205419   -0.716231              1.254915      -0.687865   \n",
       "77    -0.728280   -0.716231              0.163888       0.008972   \n",
       "\n",
       "    ord__PerformanceScore  ord__TermReason  ord__Department  ord__Position  \n",
       "0                     1.0             -1.0             -1.0           -1.0  \n",
       "1                     1.0             -1.0             -1.0           -1.0  \n",
       "2                     1.0             -1.0             -1.0           -1.0  \n",
       "3                     1.0             -1.0             -1.0           -1.0  \n",
       "4                     1.0             -1.0             -1.0           -1.0  \n",
       "..                    ...              ...              ...            ...  \n",
       "73                    1.0             -1.0             -1.0           -1.0  \n",
       "74                    0.0             -1.0             -1.0           -1.0  \n",
       "75                    3.0             -1.0             -1.0           -1.0  \n",
       "76                    1.0             -1.0             -1.0           -1.0  \n",
       "77                    1.0             -1.0             -1.0           -1.0  \n",
       "\n",
       "[78 rows x 8 columns]"
      ]
     },
     "execution_count": 217,
     "metadata": {},
     "output_type": "execute_result"
    }
   ],
   "source": [
    "X_test\n"
   ]
  },
  {
   "cell_type": "code",
   "execution_count": 218,
   "metadata": {},
   "outputs": [
    {
     "data": {
      "text/plain": [
       "140                    Active\n",
       "208                    Active\n",
       "279    Voluntarily Terminated\n",
       "203                    Active\n",
       "144                    Active\n",
       "                ...          \n",
       "188    Voluntarily Terminated\n",
       "71                     Active\n",
       "106                    Active\n",
       "270                    Active\n",
       "102                    Active\n",
       "Name: EmploymentStatus, Length: 233, dtype: object"
      ]
     },
     "execution_count": 218,
     "metadata": {},
     "output_type": "execute_result"
    }
   ],
   "source": [
    "y_train"
   ]
  },
  {
   "cell_type": "code",
   "execution_count": null,
   "metadata": {},
   "outputs": [],
   "source": []
  },
  {
   "cell_type": "code",
   "execution_count": 311,
   "metadata": {},
   "outputs": [
    {
     "data": {
      "text/plain": [
       "Index(['Salary', 'Termd', 'Position', 'TermReason', 'Department',\n",
       "       'PerformanceScore', 'EmpSatisfaction', 'Absences'],\n",
       "      dtype='object')"
      ]
     },
     "execution_count": 311,
     "metadata": {},
     "output_type": "execute_result"
    }
   ],
   "source": [
    "x.columns"
   ]
  },
  {
   "cell_type": "code",
   "execution_count": 312,
   "metadata": {},
   "outputs": [
    {
     "data": {
      "text/plain": [
       "EmploymentStatus\n",
       "Active                    154\n",
       "Voluntarily Terminated     67\n",
       "Terminated for Cause       12\n",
       "Name: count, dtype: int64"
      ]
     },
     "execution_count": 312,
     "metadata": {},
     "output_type": "execute_result"
    }
   ],
   "source": [
    "y_train.value_counts()"
   ]
  },
  {
   "cell_type": "code",
   "execution_count": 313,
   "metadata": {},
   "outputs": [
    {
     "name": "stdout",
     "output_type": "stream",
     "text": [
      "num__Salary              float64\n",
      "num__Termd               float64\n",
      "num__EmpSatisfaction     float64\n",
      "num__Absences            float64\n",
      "ord__PerformanceScore    float64\n",
      "ord__TermReason          float64\n",
      "ord__Department          float64\n",
      "ord__Position            float64\n",
      "dtype: object\n"
     ]
    }
   ],
   "source": [
    "print(X_train.dtypes)"
   ]
  },
  {
   "cell_type": "code",
   "execution_count": 314,
   "metadata": {},
   "outputs": [
    {
     "name": "stdout",
     "output_type": "stream",
     "text": [
      "object\n"
     ]
    }
   ],
   "source": [
    "\n",
    "print(y_train.dtypes)"
   ]
  },
  {
   "cell_type": "code",
   "execution_count": 315,
   "metadata": {},
   "outputs": [
    {
     "data": {
      "text/html": [
       "<div>\n",
       "<style scoped>\n",
       "    .dataframe tbody tr th:only-of-type {\n",
       "        vertical-align: middle;\n",
       "    }\n",
       "\n",
       "    .dataframe tbody tr th {\n",
       "        vertical-align: top;\n",
       "    }\n",
       "\n",
       "    .dataframe thead th {\n",
       "        text-align: right;\n",
       "    }\n",
       "</style>\n",
       "<table border=\"1\" class=\"dataframe\">\n",
       "  <thead>\n",
       "    <tr style=\"text-align: right;\">\n",
       "      <th></th>\n",
       "      <th>num__Salary</th>\n",
       "      <th>num__Termd</th>\n",
       "      <th>num__EmpSatisfaction</th>\n",
       "      <th>num__Absences</th>\n",
       "      <th>ord__PerformanceScore</th>\n",
       "      <th>ord__TermReason</th>\n",
       "      <th>ord__Department</th>\n",
       "      <th>ord__Position</th>\n",
       "    </tr>\n",
       "  </thead>\n",
       "  <tbody>\n",
       "    <tr>\n",
       "      <th>0</th>\n",
       "      <td>-0.947696</td>\n",
       "      <td>-0.716231</td>\n",
       "      <td>1.254915</td>\n",
       "      <td>-0.513656</td>\n",
       "      <td>1.0</td>\n",
       "      <td>-1.0</td>\n",
       "      <td>-1.0</td>\n",
       "      <td>-1.0</td>\n",
       "    </tr>\n",
       "    <tr>\n",
       "      <th>1</th>\n",
       "      <td>-0.852641</td>\n",
       "      <td>-0.716231</td>\n",
       "      <td>-0.927139</td>\n",
       "      <td>0.531600</td>\n",
       "      <td>0.0</td>\n",
       "      <td>-1.0</td>\n",
       "      <td>-1.0</td>\n",
       "      <td>-1.0</td>\n",
       "    </tr>\n",
       "    <tr>\n",
       "      <th>2</th>\n",
       "      <td>-0.812147</td>\n",
       "      <td>1.396197</td>\n",
       "      <td>0.163888</td>\n",
       "      <td>-1.558912</td>\n",
       "      <td>1.0</td>\n",
       "      <td>-1.0</td>\n",
       "      <td>-1.0</td>\n",
       "      <td>-1.0</td>\n",
       "    </tr>\n",
       "    <tr>\n",
       "      <th>3</th>\n",
       "      <td>-0.258925</td>\n",
       "      <td>-0.716231</td>\n",
       "      <td>1.254915</td>\n",
       "      <td>-1.036284</td>\n",
       "      <td>1.0</td>\n",
       "      <td>-1.0</td>\n",
       "      <td>-1.0</td>\n",
       "      <td>-1.0</td>\n",
       "    </tr>\n",
       "    <tr>\n",
       "      <th>4</th>\n",
       "      <td>1.509981</td>\n",
       "      <td>-0.716231</td>\n",
       "      <td>-0.927139</td>\n",
       "      <td>-1.384702</td>\n",
       "      <td>1.0</td>\n",
       "      <td>-1.0</td>\n",
       "      <td>-1.0</td>\n",
       "      <td>-1.0</td>\n",
       "    </tr>\n",
       "  </tbody>\n",
       "</table>\n",
       "</div>"
      ],
      "text/plain": [
       "   num__Salary  num__Termd  num__EmpSatisfaction  num__Absences  \\\n",
       "0    -0.947696   -0.716231              1.254915      -0.513656   \n",
       "1    -0.852641   -0.716231             -0.927139       0.531600   \n",
       "2    -0.812147    1.396197              0.163888      -1.558912   \n",
       "3    -0.258925   -0.716231              1.254915      -1.036284   \n",
       "4     1.509981   -0.716231             -0.927139      -1.384702   \n",
       "\n",
       "   ord__PerformanceScore  ord__TermReason  ord__Department  ord__Position  \n",
       "0                    1.0             -1.0             -1.0           -1.0  \n",
       "1                    0.0             -1.0             -1.0           -1.0  \n",
       "2                    1.0             -1.0             -1.0           -1.0  \n",
       "3                    1.0             -1.0             -1.0           -1.0  \n",
       "4                    1.0             -1.0             -1.0           -1.0  "
      ]
     },
     "execution_count": 315,
     "metadata": {},
     "output_type": "execute_result"
    }
   ],
   "source": [
    "X_train.head()"
   ]
  },
  {
   "cell_type": "code",
   "execution_count": 303,
   "metadata": {},
   "outputs": [
    {
     "data": {
      "text/plain": [
       "140                    Active\n",
       "208                    Active\n",
       "279    Voluntarily Terminated\n",
       "203                    Active\n",
       "144                    Active\n",
       "Name: EmploymentStatus, dtype: object"
      ]
     },
     "execution_count": 303,
     "metadata": {},
     "output_type": "execute_result"
    }
   ],
   "source": [
    "y_train.head()"
   ]
  },
  {
   "cell_type": "code",
   "execution_count": 238,
   "metadata": {},
   "outputs": [],
   "source": [
    "from sklearn.metrics import accuracy_score"
   ]
  },
  {
   "cell_type": "code",
   "execution_count": 239,
   "metadata": {},
   "outputs": [],
   "source": [
    "from sklearn import metrics"
   ]
  },
  {
   "cell_type": "code",
   "execution_count": 340,
   "metadata": {},
   "outputs": [
    {
     "name": "stdout",
     "output_type": "stream",
     "text": [
      "Accuracy_score 0.9487179487179487\n"
     ]
    }
   ],
   "source": [
    "from sklearn.svm import SVC\n",
    "\n",
    "SV = SVC()  # 'ovo' is also an option\n",
    "SV.fit(X_train, y_train)\n",
    "y_pred = SV.predict(X_test)\n",
    "pred_score=accuracy_score(y_test,y_pred)\n",
    "print(\"Accuracy_score\",pred_score)"
   ]
  },
  {
   "cell_type": "code",
   "execution_count": 341,
   "metadata": {},
   "outputs": [
    {
     "name": "stdout",
     "output_type": "stream",
     "text": [
      "accuracy_score 0.9487179487179487\n"
     ]
    }
   ],
   "source": [
    "from sklearn.neighbors import KNeighborsClassifier\n",
    "\n",
    "KN = KNeighborsClassifier(n_neighbors=3)\n",
    "KN.fit(X_train, y_train)\n",
    "y_pred1 = KN.predict(X_test)\n",
    "pred_score1=accuracy_score(y_test,y_pred)\n",
    "print(\"accuracy_score\",pred_score1)\n"
   ]
  },
  {
   "cell_type": "code",
   "execution_count": 342,
   "metadata": {},
   "outputs": [
    {
     "name": "stdout",
     "output_type": "stream",
     "text": [
      "accuracy_score 0.9358974358974359\n"
     ]
    }
   ],
   "source": [
    "from sklearn.tree import DecisionTreeClassifier\n",
    "tree=DecisionTreeClassifier()\n",
    "tree.fit(X_train,y_train)\n",
    "y_pred==tree.predict(X_test)\n",
    "pred_score2=accuracy_score(y_pred1,y_test)\n",
    "print(\"accuracy_score\",pred_score2)"
   ]
  },
  {
   "cell_type": "code",
   "execution_count": 319,
   "metadata": {},
   "outputs": [
    {
     "name": "stdout",
     "output_type": "stream",
     "text": [
      "accuracy_score 0.9358974358974359\n"
     ]
    }
   ],
   "source": [
    "from sklearn.ensemble import RandomForestClassifier\n",
    "rand=RandomForestClassifier()\n",
    "rand.fit(X_train,y_train)\n",
    "y_pred=rand.predict(X_test)\n",
    "pred_score3=accuracy_score(y_test,y_pred)\n",
    "print(\"accuracy_score\",pred_score3)"
   ]
  },
  {
   "cell_type": "code",
   "execution_count": 343,
   "metadata": {},
   "outputs": [],
   "source": [
    "#model Training"
   ]
  },
  {
   "cell_type": "code",
   "execution_count": 344,
   "metadata": {},
   "outputs": [],
   "source": [
    "models={\n",
    "    'SVC':SVC(),\n",
    "    'KNeighborsClassifier' :KNeighborsClassifier(),\n",
    "    'DecisionTreeClassifier':DecisionTreeClassifier(),\n",
    "    'RandomForest':RandomForestClassifier()\n",
    "}"
   ]
  },
  {
   "cell_type": "code",
   "execution_count": 345,
   "metadata": {},
   "outputs": [
    {
     "name": "stdout",
     "output_type": "stream",
     "text": [
      "['SVC', 'KNeighborsClassifier', 'DecisionTreeClassifier', 'RandomForest']\n"
     ]
    }
   ],
   "source": [
    "print(list(models))"
   ]
  },
  {
   "cell_type": "code",
   "execution_count": 346,
   "metadata": {},
   "outputs": [
    {
     "data": {
      "text/html": [
       "<div>\n",
       "<style scoped>\n",
       "    .dataframe tbody tr th:only-of-type {\n",
       "        vertical-align: middle;\n",
       "    }\n",
       "\n",
       "    .dataframe tbody tr th {\n",
       "        vertical-align: top;\n",
       "    }\n",
       "\n",
       "    .dataframe thead th {\n",
       "        text-align: right;\n",
       "    }\n",
       "</style>\n",
       "<table border=\"1\" class=\"dataframe\">\n",
       "  <thead>\n",
       "    <tr style=\"text-align: right;\">\n",
       "      <th></th>\n",
       "      <th>Model Names</th>\n",
       "      <th>Accuracy socre</th>\n",
       "    </tr>\n",
       "  </thead>\n",
       "  <tbody>\n",
       "    <tr>\n",
       "      <th>0</th>\n",
       "      <td>SVC</td>\n",
       "      <td>0.948718</td>\n",
       "    </tr>\n",
       "    <tr>\n",
       "      <th>1</th>\n",
       "      <td>KNeighborsClassifier</td>\n",
       "      <td>0.948718</td>\n",
       "    </tr>\n",
       "    <tr>\n",
       "      <th>2</th>\n",
       "      <td>DecisionTreeClassifier</td>\n",
       "      <td>0.935897</td>\n",
       "    </tr>\n",
       "    <tr>\n",
       "      <th>3</th>\n",
       "      <td>RandomForestClassifier</td>\n",
       "      <td>0.935897</td>\n",
       "    </tr>\n",
       "  </tbody>\n",
       "</table>\n",
       "</div>"
      ],
      "text/plain": [
       "              Model Names  Accuracy socre\n",
       "0                     SVC        0.948718\n",
       "1    KNeighborsClassifier        0.948718\n",
       "2  DecisionTreeClassifier        0.935897\n",
       "3  RandomForestClassifier        0.935897"
      ]
     },
     "execution_count": 346,
     "metadata": {},
     "output_type": "execute_result"
    }
   ],
   "source": [
    "pd.DataFrame({\"Model Names\":['SVC', 'KNeighborsClassifier', 'DecisionTreeClassifier', 'RandomForestClassifier'],\n",
    "            \"Accuracy socre\":[pred_score,pred_score1,pred_score2,pred_score3]})"
   ]
  },
  {
   "cell_type": "code",
   "execution_count": 69,
   "metadata": {},
   "outputs": [],
   "source": [
    "#here we accept RandomForestClasifier it give the best accuracy"
   ]
  },
  {
   "cell_type": "code",
   "execution_count": 339,
   "metadata": {},
   "outputs": [
    {
     "name": "stderr",
     "output_type": "stream",
     "text": [
      "c:\\ProgramData\\anaconda3\\Lib\\site-packages\\sklearn\\base.py:439: UserWarning: X does not have valid feature names, but KNeighborsClassifier was fitted with feature names\n",
      "  warnings.warn(\n"
     ]
    },
    {
     "data": {
      "text/plain": [
       "array(['Voluntarily Terminated'], dtype=object)"
      ]
     },
     "execution_count": 339,
     "metadata": {},
     "output_type": "execute_result"
    }
   ],
   "source": [
    "KN.predict([[2,2,2,2,2,2,2,2]])"
   ]
  },
  {
   "cell_type": "code",
   "execution_count": 310,
   "metadata": {},
   "outputs": [],
   "source": [
    "#now i make a pickle file"
   ]
  },
  {
   "cell_type": "code",
   "execution_count": 347,
   "metadata": {},
   "outputs": [],
   "source": [
    "import pickle"
   ]
  },
  {
   "cell_type": "code",
   "execution_count": 348,
   "metadata": {},
   "outputs": [],
   "source": [
    "pickle.dump(KN,open(\"model.pkl\",\"wb\"))"
   ]
  },
  {
   "cell_type": "code",
   "execution_count": 349,
   "metadata": {},
   "outputs": [],
   "source": [
    "model=pickle.load(open('model.pkl','rb'))"
   ]
  },
  {
   "cell_type": "code",
   "execution_count": 351,
   "metadata": {},
   "outputs": [
    {
     "name": "stderr",
     "output_type": "stream",
     "text": [
      "c:\\ProgramData\\anaconda3\\Lib\\site-packages\\sklearn\\base.py:439: UserWarning: X does not have valid feature names, but KNeighborsClassifier was fitted with feature names\n",
      "  warnings.warn(\n"
     ]
    },
    {
     "data": {
      "text/plain": [
       "array(['Voluntarily Terminated'], dtype=object)"
      ]
     },
     "execution_count": 351,
     "metadata": {},
     "output_type": "execute_result"
    }
   ],
   "source": [
    "KN.predict([[0,1,0,1,0,1,0,0]])"
   ]
  },
  {
   "cell_type": "code",
   "execution_count": 263,
   "metadata": {},
   "outputs": [
    {
     "name": "stdout",
     "output_type": "stream",
     "text": [
      "Current Directory: d:\\data science\\Hr_Analyst\\notebooks\\data\n"
     ]
    }
   ],
   "source": [
    "import os\n",
    "\n",
    "# Print the current working directory\n",
    "print(\"Current Directory:\", os.getcwd())\n"
   ]
  },
  {
   "cell_type": "code",
   "execution_count": 257,
   "metadata": {},
   "outputs": [
    {
     "name": "stdout",
     "output_type": "stream",
     "text": [
      "Files in Directory: ['.gitkeep', 'eda.ipynb', 'HRDataset_v14.csv', 'model.pkl']\n"
     ]
    }
   ],
   "source": [
    "print(\"Files in Directory:\", os.listdir())\n",
    "\n",
    "\n"
   ]
  }
 ],
 "metadata": {
  "kernelspec": {
   "display_name": "Python 3",
   "language": "python",
   "name": "python3"
  },
  "language_info": {
   "codemirror_mode": {
    "name": "ipython",
    "version": 3
   },
   "file_extension": ".py",
   "mimetype": "text/x-python",
   "name": "python",
   "nbconvert_exporter": "python",
   "pygments_lexer": "ipython3",
   "version": "3.11.7"
  }
 },
 "nbformat": 4,
 "nbformat_minor": 2
}
